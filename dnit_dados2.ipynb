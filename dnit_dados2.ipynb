{
  "cells": [
    {
      "cell_type": "markdown",
      "metadata": {
        "id": "view-in-github",
        "colab_type": "text"
      },
      "source": [
        "<a href=\"https://colab.research.google.com/github/WandersonGustavo/Imersao_Alura_Aula_04/blob/main/dnit_dados2.ipynb\" target=\"_parent\"><img src=\"https://colab.research.google.com/assets/colab-badge.svg\" alt=\"Open In Colab\"/></a>"
      ]
    },
    {
      "cell_type": "code",
      "execution_count": null,
      "metadata": {
        "id": "heAwMKoTcnJk"
      },
      "outputs": [],
      "source": [
        "import pandas as pd\n",
        "import numpy as np\n",
        "import matplotlib.pyplot as plt\n",
        "import seaborn as sns\n",
        "import statistics  as sts\n",
        "from sklearn.model_selection import train_test_split\n",
        "from sklearn.linear_model import LinearRegression\n",
        "from sklearn.metrics import mean_squared_log_error"
      ]
    },
    {
      "cell_type": "code",
      "execution_count": null,
      "metadata": {
        "colab": {
          "base_uri": "https://localhost:8080/",
          "height": 80
        },
        "id": "GXinMNX4D8tO",
        "outputId": "366b3c73-de66-4267-85ef-ac112ca25840"
      },
      "outputs": [
        {
          "output_type": "display_data",
          "data": {
            "text/plain": [
              "<IPython.core.display.HTML object>"
            ],
            "text/html": [
              "\n",
              "     <input type=\"file\" id=\"files-05969445-4c8a-4bc1-bf49-78e594c90cdd\" name=\"files[]\" multiple disabled\n",
              "        style=\"border:none\" />\n",
              "     <output id=\"result-05969445-4c8a-4bc1-bf49-78e594c90cdd\">\n",
              "      Upload widget is only available when the cell has been executed in the\n",
              "      current browser session. Please rerun this cell to enable.\n",
              "      </output>\n",
              "      <script>// Copyright 2017 Google LLC\n",
              "//\n",
              "// Licensed under the Apache License, Version 2.0 (the \"License\");\n",
              "// you may not use this file except in compliance with the License.\n",
              "// You may obtain a copy of the License at\n",
              "//\n",
              "//      http://www.apache.org/licenses/LICENSE-2.0\n",
              "//\n",
              "// Unless required by applicable law or agreed to in writing, software\n",
              "// distributed under the License is distributed on an \"AS IS\" BASIS,\n",
              "// WITHOUT WARRANTIES OR CONDITIONS OF ANY KIND, either express or implied.\n",
              "// See the License for the specific language governing permissions and\n",
              "// limitations under the License.\n",
              "\n",
              "/**\n",
              " * @fileoverview Helpers for google.colab Python module.\n",
              " */\n",
              "(function(scope) {\n",
              "function span(text, styleAttributes = {}) {\n",
              "  const element = document.createElement('span');\n",
              "  element.textContent = text;\n",
              "  for (const key of Object.keys(styleAttributes)) {\n",
              "    element.style[key] = styleAttributes[key];\n",
              "  }\n",
              "  return element;\n",
              "}\n",
              "\n",
              "// Max number of bytes which will be uploaded at a time.\n",
              "const MAX_PAYLOAD_SIZE = 100 * 1024;\n",
              "\n",
              "function _uploadFiles(inputId, outputId) {\n",
              "  const steps = uploadFilesStep(inputId, outputId);\n",
              "  const outputElement = document.getElementById(outputId);\n",
              "  // Cache steps on the outputElement to make it available for the next call\n",
              "  // to uploadFilesContinue from Python.\n",
              "  outputElement.steps = steps;\n",
              "\n",
              "  return _uploadFilesContinue(outputId);\n",
              "}\n",
              "\n",
              "// This is roughly an async generator (not supported in the browser yet),\n",
              "// where there are multiple asynchronous steps and the Python side is going\n",
              "// to poll for completion of each step.\n",
              "// This uses a Promise to block the python side on completion of each step,\n",
              "// then passes the result of the previous step as the input to the next step.\n",
              "function _uploadFilesContinue(outputId) {\n",
              "  const outputElement = document.getElementById(outputId);\n",
              "  const steps = outputElement.steps;\n",
              "\n",
              "  const next = steps.next(outputElement.lastPromiseValue);\n",
              "  return Promise.resolve(next.value.promise).then((value) => {\n",
              "    // Cache the last promise value to make it available to the next\n",
              "    // step of the generator.\n",
              "    outputElement.lastPromiseValue = value;\n",
              "    return next.value.response;\n",
              "  });\n",
              "}\n",
              "\n",
              "/**\n",
              " * Generator function which is called between each async step of the upload\n",
              " * process.\n",
              " * @param {string} inputId Element ID of the input file picker element.\n",
              " * @param {string} outputId Element ID of the output display.\n",
              " * @return {!Iterable<!Object>} Iterable of next steps.\n",
              " */\n",
              "function* uploadFilesStep(inputId, outputId) {\n",
              "  const inputElement = document.getElementById(inputId);\n",
              "  inputElement.disabled = false;\n",
              "\n",
              "  const outputElement = document.getElementById(outputId);\n",
              "  outputElement.innerHTML = '';\n",
              "\n",
              "  const pickedPromise = new Promise((resolve) => {\n",
              "    inputElement.addEventListener('change', (e) => {\n",
              "      resolve(e.target.files);\n",
              "    });\n",
              "  });\n",
              "\n",
              "  const cancel = document.createElement('button');\n",
              "  inputElement.parentElement.appendChild(cancel);\n",
              "  cancel.textContent = 'Cancel upload';\n",
              "  const cancelPromise = new Promise((resolve) => {\n",
              "    cancel.onclick = () => {\n",
              "      resolve(null);\n",
              "    };\n",
              "  });\n",
              "\n",
              "  // Wait for the user to pick the files.\n",
              "  const files = yield {\n",
              "    promise: Promise.race([pickedPromise, cancelPromise]),\n",
              "    response: {\n",
              "      action: 'starting',\n",
              "    }\n",
              "  };\n",
              "\n",
              "  cancel.remove();\n",
              "\n",
              "  // Disable the input element since further picks are not allowed.\n",
              "  inputElement.disabled = true;\n",
              "\n",
              "  if (!files) {\n",
              "    return {\n",
              "      response: {\n",
              "        action: 'complete',\n",
              "      }\n",
              "    };\n",
              "  }\n",
              "\n",
              "  for (const file of files) {\n",
              "    const li = document.createElement('li');\n",
              "    li.append(span(file.name, {fontWeight: 'bold'}));\n",
              "    li.append(span(\n",
              "        `(${file.type || 'n/a'}) - ${file.size} bytes, ` +\n",
              "        `last modified: ${\n",
              "            file.lastModifiedDate ? file.lastModifiedDate.toLocaleDateString() :\n",
              "                                    'n/a'} - `));\n",
              "    const percent = span('0% done');\n",
              "    li.appendChild(percent);\n",
              "\n",
              "    outputElement.appendChild(li);\n",
              "\n",
              "    const fileDataPromise = new Promise((resolve) => {\n",
              "      const reader = new FileReader();\n",
              "      reader.onload = (e) => {\n",
              "        resolve(e.target.result);\n",
              "      };\n",
              "      reader.readAsArrayBuffer(file);\n",
              "    });\n",
              "    // Wait for the data to be ready.\n",
              "    let fileData = yield {\n",
              "      promise: fileDataPromise,\n",
              "      response: {\n",
              "        action: 'continue',\n",
              "      }\n",
              "    };\n",
              "\n",
              "    // Use a chunked sending to avoid message size limits. See b/62115660.\n",
              "    let position = 0;\n",
              "    do {\n",
              "      const length = Math.min(fileData.byteLength - position, MAX_PAYLOAD_SIZE);\n",
              "      const chunk = new Uint8Array(fileData, position, length);\n",
              "      position += length;\n",
              "\n",
              "      const base64 = btoa(String.fromCharCode.apply(null, chunk));\n",
              "      yield {\n",
              "        response: {\n",
              "          action: 'append',\n",
              "          file: file.name,\n",
              "          data: base64,\n",
              "        },\n",
              "      };\n",
              "\n",
              "      let percentDone = fileData.byteLength === 0 ?\n",
              "          100 :\n",
              "          Math.round((position / fileData.byteLength) * 100);\n",
              "      percent.textContent = `${percentDone}% done`;\n",
              "\n",
              "    } while (position < fileData.byteLength);\n",
              "  }\n",
              "\n",
              "  // All done.\n",
              "  yield {\n",
              "    response: {\n",
              "      action: 'complete',\n",
              "    }\n",
              "  };\n",
              "}\n",
              "\n",
              "scope.google = scope.google || {};\n",
              "scope.google.colab = scope.google.colab || {};\n",
              "scope.google.colab._files = {\n",
              "  _uploadFiles,\n",
              "  _uploadFilesContinue,\n",
              "};\n",
              "})(self);\n",
              "</script> "
            ]
          },
          "metadata": {}
        }
      ],
      "source": [
        "rom google.colab import files\n",
        "up=files.upload()"
      ]
    },
    {
      "cell_type": "code",
      "source": [],
      "metadata": {
        "id": "7BRz0hbaamAy"
      },
      "execution_count": null,
      "outputs": []
    },
    {
      "cell_type": "code",
      "execution_count": null,
      "metadata": {
        "id": "KH3tAYeEc1mK"
      },
      "outputs": [],
      "source": [
        "base=pd.read_csv('icm_-01-2023-transparencia.csv',on_bad_lines='skip',sep=\";\")\n"
      ]
    },
    {
      "cell_type": "code",
      "execution_count": null,
      "metadata": {
        "id": "7AIhvGYteNVQ"
      },
      "outputs": [],
      "source": [
        "base.columns=['UF','Rodovia','km inicial','km final','Extensão (km)','Data','Latitude','Longitude','Observação','ICMNP']\n"
      ]
    },
    {
      "cell_type": "code",
      "execution_count": null,
      "metadata": {
        "id": "eRFd8vv6dARV"
      },
      "outputs": [],
      "source": [
        "base2=pd.read_csv('icm_12_2022.csv',on_bad_lines='skip',sep=\";\")\n"
      ]
    },
    {
      "cell_type": "code",
      "execution_count": null,
      "metadata": {
        "id": "70maqC8rgurW"
      },
      "outputs": [],
      "source": [
        "base2.columns=['UF','Rodovia','km inicial','km final','Extensão (km)','Data','Latitude','Longitude','ICC','ICP','ICM']\n"
      ]
    },
    {
      "cell_type": "code",
      "execution_count": null,
      "metadata": {
        "id": "zpDdA9mrfErG"
      },
      "outputs": [],
      "source": [
        "#AGUPAR E EXIBIR DADOS DA BAHIA\n",
        "dadosBahia22=base2.groupby(['UF'])\n",
        "dadosBahia22\n",
        "dadosBahia22.get_group('BA')\n",
        "lat22BA=dadosBahia22.head(31)"
      ]
    },
    {
      "cell_type": "code",
      "execution_count": null,
      "metadata": {
        "id": "wmvpXJI3k2KO"
      },
      "outputs": [],
      "source": [
        "dadosBahia23=base.groupby(['UF'])\n",
        "dadosBahia23=dadosBahia23.get_group('BA')\n",
        "dadosBahia23.describe()"
      ]
    },
    {
      "cell_type": "code",
      "execution_count": null,
      "metadata": {
        "id": "hvph2hSAo1xZ"
      },
      "outputs": [],
      "source": [
        "#latitude dos trechos baianos\n",
        "longitude=base.groupby(['Longitude'])\n",
        "lon23BA=dadosBahia23\n",
        "lon23BA.Longitude.head(31)\n",
        "lon23BA.describe\n"
      ]
    },
    {
      "cell_type": "code",
      "execution_count": null,
      "metadata": {
        "id": "CVnaEUYrk08L"
      },
      "outputs": [],
      "source": [
        "\n",
        "icmnp=base.groupby(['ICMNP'])\n",
        "i23BA=dadosBahia23\n",
        "#lat23BA.Latitude.head(31)\n",
        "i23BA.describe"
      ]
    },
    {
      "cell_type": "code",
      "execution_count": null,
      "metadata": {
        "id": "P5ZJV7t6h3dn"
      },
      "outputs": [],
      "source": [
        "dadosBahia22=base2.groupby(['UF'])\n",
        "dadosBahia22=lat22BA\n",
        "dadosBahia22.describe()"
      ]
    },
    {
      "cell_type": "code",
      "execution_count": null,
      "metadata": {
        "id": "PR83YS9AhqOw"
      },
      "outputs": [],
      "source": [
        "icm=base2.groupby(['ICM'])\n",
        "icm22BA=dadosBahia22.describe()\n",
        "#icm22BA.ICM.head(31)"
      ]
    },
    {
      "cell_type": "code",
      "execution_count": null,
      "metadata": {
        "colab": {
          "base_uri": "https://localhost:8080/"
        },
        "id": "QzWs1mHrvahP",
        "outputId": "23108d62-da7c-458c-ee33-c4b14162dc27"
      },
      "outputs": [
        {
          "output_type": "execute_result",
          "data": {
            "text/plain": [
              "5"
            ]
          },
          "metadata": {},
          "execution_count": 14
        }
      ],
      "source": [
        "base2['ICM'].isnull().sum()\n"
      ]
    },
    {
      "cell_type": "code",
      "execution_count": null,
      "metadata": {
        "colab": {
          "base_uri": "https://localhost:8080/"
        },
        "id": "Kl6fbg-HqjFK",
        "outputId": "3729c54a-922b-441d-ffeb-ee93a3e8abc8"
      },
      "outputs": [
        {
          "data": {
            "text/plain": [
              "12.5"
            ]
          },
          "execution_count": 13,
          "metadata": {},
          "output_type": "execute_result"
        }
      ],
      "source": [
        "#\n",
        "a=\"12,5\"\n",
        "b=a.replace(\",\",\".\")\n",
        "b1=float(b)\n",
        "b1\n"
      ]
    },
    {
      "cell_type": "code",
      "execution_count": null,
      "metadata": {
        "id": "Goaxh8zs0LxF"
      },
      "outputs": [],
      "source": [
        "#TRANSFORMAÇÃO DOS DADOS DE STRING PRA FLOAT AGR PODE CORRELACIONAR\n",
        "#i23BA['ICMNP']=i23BA['ICMNP'].apply(lambda x: str(x).replace(\",\",\".\") )\n",
        "#i23BA=i23BA['ICMNP'].replace(\",\",\".\")\n",
        "#i23BA.astype('Float64')\n",
        "i23BA.describe"
      ]
    },
    {
      "cell_type": "code",
      "execution_count": null,
      "metadata": {
        "id": "DOXUle6Lp5ar"
      },
      "outputs": [],
      "source": [
        "#******************************************''DADOS DE 2022 ABAIXO''***********************************************************************\n",
        "#lon23BA['Longitude']=lon23BA['Longitude'].apply(lambda x: str(x).replace(\",\",\".\") )\n",
        "#lon23BA['Longitude']=lon23BA['Longitude'].astype('float64')"
      ]
    },
    {
      "cell_type": "code",
      "execution_count": null,
      "metadata": {
        "id": "Tin3bP8L-2Sc"
      },
      "outputs": [],
      "source": [
        "lon23BA.drop('Rodovia',axis=1)\n",
        "#lon23BA.loc[:,7]=lon23BA.astype('float64')"
      ]
    },
    {
      "cell_type": "code",
      "execution_count": null,
      "metadata": {
        "id": "t0wxTXUNBmkt"
      },
      "outputs": [],
      "source": [
        "lon23BA.drop('Rodovia',axis=1)"
      ]
    },
    {
      "cell_type": "code",
      "execution_count": null,
      "metadata": {
        "id": "YGXSKkMCCB8v"
      },
      "outputs": [],
      "source": [
        "lon23BA.drop('Observação',axis=1)"
      ]
    },
    {
      "cell_type": "code",
      "execution_count": null,
      "metadata": {
        "id": "akP9mf8QFVb8"
      },
      "outputs": [],
      "source": [
        "dadosBahia22.dtypes"
      ]
    },
    {
      "cell_type": "code",
      "execution_count": null,
      "metadata": {
        "id": "4u5veZFwFV5V"
      },
      "outputs": [],
      "source": [
        "dadosBahia22.drop('Rodovia',axis=1)"
      ]
    },
    {
      "cell_type": "code",
      "execution_count": null,
      "metadata": {
        "id": "Rg2XNPjJFWQX"
      },
      "outputs": [],
      "source": [
        "bahia=dadosBahia22.groupby(['UF'])\n",
        "bahia=bahia.get_group('BA')\n",
        "bahia.describe"
      ]
    },
    {
      "cell_type": "code",
      "execution_count": null,
      "metadata": {
        "id": "GSpA2m2iEm02"
      },
      "outputs": [],
      "source": [
        "bahia.drop('UF',axis=1)"
      ]
    },
    {
      "cell_type": "code",
      "execution_count": null,
      "metadata": {
        "id": "xM7RC4m6HkLk"
      },
      "outputs": [],
      "source": [
        "bahia.drop('Rodovia',axis=1)"
      ]
    },
    {
      "cell_type": "code",
      "execution_count": null,
      "metadata": {
        "id": "7W5fSp2_Hsk0"
      },
      "outputs": [],
      "source": [
        "bahia.drop('UF',axis=1)"
      ]
    },
    {
      "cell_type": "code",
      "execution_count": null,
      "metadata": {
        "id": "BL4ozSnIKQGU"
      },
      "outputs": [],
      "source": [
        "lon23BA['ICMNP']=lon23BA['ICMNP'].apply(lambda x: str(x).replace(\",\",\".\") )\n",
        "#lon23BA['Longitude']=lon23BA['Longitude'].astype('float64')"
      ]
    },
    {
      "cell_type": "code",
      "execution_count": null,
      "metadata": {
        "id": "ClxjQygOKqCt"
      },
      "outputs": [],
      "source": [
        "lon23BA['ICMNP']=lon23BA['ICMNP'].astype('float64')"
      ]
    },
    {
      "cell_type": "code",
      "execution_count": null,
      "metadata": {
        "id": "8TfcnynOLmyg"
      },
      "outputs": [],
      "source": [
        "lon23BA.drop('Rodovia',axis=1)"
      ]
    },
    {
      "cell_type": "code",
      "execution_count": null,
      "metadata": {
        "id": "xn2n13ahMHTN"
      },
      "outputs": [],
      "source": [
        "lon23BA.drop('Observação',axis=1)"
      ]
    },
    {
      "cell_type": "code",
      "execution_count": null,
      "metadata": {
        "id": "3WitxlAMrQpO"
      },
      "outputs": [],
      "source": [
        "#l=lon23BA[['Longitude']].astype('float64')"
      ]
    },
    {
      "cell_type": "code",
      "execution_count": null,
      "metadata": {
        "id": "5FNLVS8FMa8h"
      },
      "outputs": [],
      "source": [
        "j=lon23BA[['ICMNP']].astype('float64')"
      ]
    },
    {
      "cell_type": "code",
      "execution_count": null,
      "metadata": {
        "id": "O7SwsQJlCuvL"
      },
      "outputs": [],
      "source": [
        "lon23BA['Latitude']=lon23BA['Latitude'].apply(lambda x: str(x).replace(\",\",\".\") )"
      ]
    },
    {
      "cell_type": "code",
      "execution_count": null,
      "metadata": {
        "id": "uoMPOENoCvL6"
      },
      "outputs": [],
      "source": [
        "lon23BA['Latitude'].astype('float64')"
      ]
    },
    {
      "cell_type": "code",
      "execution_count": null,
      "metadata": {
        "id": "ScyzlT_-Gyd5"
      },
      "outputs": [],
      "source": [
        "lon23BA['Data'].astype('object')"
      ]
    },
    {
      "cell_type": "code",
      "execution_count": null,
      "metadata": {
        "id": "3zRpPuA9Fnvl"
      },
      "outputs": [],
      "source": [
        "lon23BA['Data']=lon23BA['Data'].apply(lambda x: str(x).replace('01','24/01/2023') )"
      ]
    },
    {
      "cell_type": "code",
      "execution_count": null,
      "metadata": {
        "id": "a1ryEl0wrjqO"
      },
      "outputs": [],
      "source": [
        "pergunta=lon23BA.iloc[:,0].values\n",
        "resposta=j.iloc[:,0].values"
      ]
    },
    {
      "cell_type": "code",
      "execution_count": null,
      "metadata": {
        "id": "tEdDmeRCGZop"
      },
      "outputs": [],
      "source": [
        "lon23BA['Data'].describe"
      ]
    },
    {
      "cell_type": "code",
      "execution_count": null,
      "metadata": {
        "id": "Pc7OtsK7L98A"
      },
      "outputs": [],
      "source": [
        "lon23BA['Longitude'].describe"
      ]
    },
    {
      "cell_type": "code",
      "execution_count": null,
      "metadata": {
        "id": "1hDMyIc-R_16"
      },
      "outputs": [],
      "source": [
        "lon23BA['Longitude']=lon23BA['Longitude'].apply(lambda x: str(x).replace(\",\",\".\") )"
      ]
    },
    {
      "cell_type": "code",
      "execution_count": null,
      "metadata": {
        "id": "psTJm9J4SL6W"
      },
      "outputs": [],
      "source": [
        "lon23BA['Longitude'].astype('float64')"
      ]
    },
    {
      "cell_type": "code",
      "execution_count": null,
      "metadata": {
        "id": "rJEPdMrEGxWy"
      },
      "outputs": [],
      "source": [
        "\n",
        "#def clean_df2(saidaM):\n",
        "    #s=saidaM.reshape(1,-1)\n",
        "    #assert isinstance(s)\n",
        "    #s.dropna(inplace=True)\n",
        "    #indices_to_keep = s.isin([np.nan, np.inf, -np.inf]).any(axis=1)\n",
        "    #return s[indices_to_keep].astype(np.float64)"
      ]
    },
    {
      "cell_type": "code",
      "source": [
        "lon23BA.drop(columns=['Observação'])\n",
        "#print(entradaM)"
      ],
      "metadata": {
        "id": "9_ZpRiEq84Zo"
      },
      "execution_count": null,
      "outputs": []
    },
    {
      "cell_type": "code",
      "source": [
        "bahia"
      ],
      "metadata": {
        "id": "ztMHTUazBJAJ"
      },
      "execution_count": null,
      "outputs": []
    },
    {
      "cell_type": "code",
      "source": [
        "bahia.drop('UF',axis=1)"
      ],
      "metadata": {
        "id": "EstMgdiLCXKQ"
      },
      "execution_count": null,
      "outputs": []
    },
    {
      "cell_type": "code",
      "source": [
        "bahia.drop('Rodovia',axis=1)"
      ],
      "metadata": {
        "id": "VoZEi9NVCakP"
      },
      "execution_count": null,
      "outputs": []
    },
    {
      "cell_type": "code",
      "source": [
        "bahia.drop('UF',axis=1)"
      ],
      "metadata": {
        "id": "Cr-gsLP6C4kK"
      },
      "execution_count": null,
      "outputs": []
    },
    {
      "cell_type": "code",
      "source": [
        "bahia['ICC']=bahia['ICC'].apply(lambda x: str(x).replace(\",\",\".\") )"
      ],
      "metadata": {
        "id": "w5M477YiFRpl"
      },
      "execution_count": null,
      "outputs": []
    },
    {
      "cell_type": "code",
      "source": [
        "bahia['ICP']=bahia['ICP'].apply(lambda x: str(x).replace(\",\",\".\") )"
      ],
      "metadata": {
        "id": "WtQjIqStFeNZ"
      },
      "execution_count": null,
      "outputs": []
    },
    {
      "cell_type": "code",
      "source": [
        "bahia['ICM']=bahia['ICM'].apply(lambda x: str(x).replace(\",\",\".\") )"
      ],
      "metadata": {
        "id": "5fgdxDvMnIVs"
      },
      "execution_count": null,
      "outputs": []
    },
    {
      "cell_type": "code",
      "source": [
        "bahia['ICC'].astype('float64')"
      ],
      "metadata": {
        "id": "NsE6PDs0nU4X"
      },
      "execution_count": null,
      "outputs": []
    },
    {
      "cell_type": "code",
      "source": [
        "bahia['ICM'].astype('float64')"
      ],
      "metadata": {
        "id": "o06RKXb_nyPn"
      },
      "execution_count": null,
      "outputs": []
    },
    {
      "cell_type": "code",
      "source": [
        "bahia['ICP'].astype('float64')"
      ],
      "metadata": {
        "id": "N9ylxSCMny6k"
      },
      "execution_count": null,
      "outputs": []
    },
    {
      "cell_type": "code",
      "source": [
        "#np.column_stack((entradaM,saidaM))"
      ],
      "metadata": {
        "id": "L6GzqaNloOLb"
      },
      "execution_count": null,
      "outputs": []
    },
    {
      "cell_type": "code",
      "source": [
        "bahia['Longitude']=bahia['Longitude'].apply(lambda x: str(x).replace(\",\",\".\") )"
      ],
      "metadata": {
        "id": "UcybAyNdqv1x"
      },
      "execution_count": null,
      "outputs": []
    },
    {
      "cell_type": "code",
      "source": [
        "bahia['Longitude'].astype('float64')"
      ],
      "metadata": {
        "id": "TYc4-SNXqwq8"
      },
      "execution_count": null,
      "outputs": []
    },
    {
      "cell_type": "code",
      "source": [
        "bahia['Latitude']=bahia['Latitude'].apply(lambda x: str(x).replace(\",\",\".\") )"
      ],
      "metadata": {
        "id": "LDg0F2r0rIWr"
      },
      "execution_count": null,
      "outputs": []
    },
    {
      "cell_type": "code",
      "source": [
        "bahia['Latitude'].astype('float64')"
      ],
      "metadata": {
        "id": "Y0_ARsK8rJPK"
      },
      "execution_count": null,
      "outputs": []
    },
    {
      "cell_type": "code",
      "source": [
        "bahia['km inicial']=bahia['km inicial'].apply(lambda x: str(x).replace(\",\",\".\") )"
      ],
      "metadata": {
        "id": "iHSOonLNrYiX"
      },
      "execution_count": null,
      "outputs": []
    },
    {
      "cell_type": "code",
      "source": [
        "bahia['km inicial'].astype('float64')"
      ],
      "metadata": {
        "id": "AlzcZLMzrZYd"
      },
      "execution_count": null,
      "outputs": []
    },
    {
      "cell_type": "code",
      "source": [
        "bahia['km final']=bahia['km final'].apply(lambda x: str(x).replace(\",\",\".\") )"
      ],
      "metadata": {
        "id": "CetqOeKRr1o9"
      },
      "execution_count": null,
      "outputs": []
    },
    {
      "cell_type": "code",
      "source": [
        "bahia['km final'].astype('float64')"
      ],
      "metadata": {
        "id": "u2P2lD6gr2jC"
      },
      "execution_count": null,
      "outputs": []
    },
    {
      "cell_type": "code",
      "source": [
        "bahia['Extensão (km)']=bahia['Extensão (km)'].apply(lambda x: str(x).replace(\",\",\".\") )"
      ],
      "metadata": {
        "id": "nI7G7OKPsTUU"
      },
      "execution_count": null,
      "outputs": []
    },
    {
      "cell_type": "code",
      "source": [
        "bahia['Extensão (km)'].astype('float64')"
      ],
      "metadata": {
        "id": "CdMrgU7XsUVa"
      },
      "execution_count": null,
      "outputs": []
    },
    {
      "cell_type": "code",
      "source": [
        "bahia.drop(columns=['UF','Rodovia','Data'])"
      ],
      "metadata": {
        "id": "o11Kx5_lCgOn"
      },
      "execution_count": null,
      "outputs": []
    },
    {
      "cell_type": "code",
      "source": [
        "lon23BA.drop(columns=['UF','Rodovia','Data'])"
      ],
      "metadata": {
        "id": "9sDCGHC0DDJ7"
      },
      "execution_count": null,
      "outputs": []
    },
    {
      "cell_type": "code",
      "source": [
        "lon23BA['km inicial']=lon23BA['km inicial'].apply(lambda x: str(x).replace(\",\",\".\") )"
      ],
      "metadata": {
        "id": "wBmL6gjIDJe5"
      },
      "execution_count": null,
      "outputs": []
    },
    {
      "cell_type": "code",
      "source": [
        "lon23BA['km inicial'].astype('float64')"
      ],
      "metadata": {
        "id": "ZIHLi90EDJ36"
      },
      "execution_count": null,
      "outputs": []
    },
    {
      "cell_type": "code",
      "source": [
        "lon23BA['km final']=lon23BA['km final'].apply(lambda x: str(x).replace(\",\",\".\") )"
      ],
      "metadata": {
        "id": "cq7YgGRdDKN4"
      },
      "execution_count": null,
      "outputs": []
    },
    {
      "cell_type": "code",
      "source": [
        "lon23BA['km final'].astype('float64')"
      ],
      "metadata": {
        "id": "qD8DCAPoDKkR"
      },
      "execution_count": null,
      "outputs": []
    },
    {
      "cell_type": "code",
      "source": [
        "#lon23BA['Extensão (km)']=lon23BA['Extensão (km)'].apply(lambda x: str(x).replace(\",\",\".\") )"
      ],
      "metadata": {
        "id": "jVXOI7BKDK4R"
      },
      "execution_count": null,
      "outputs": []
    },
    {
      "cell_type": "code",
      "source": [
        "#lon23BA['Extensão (km)'].astype('float64')"
      ],
      "metadata": {
        "id": "D142iz2sDLOI"
      },
      "execution_count": null,
      "outputs": []
    },
    {
      "cell_type": "code",
      "source": [
        "#bahia.drop(columns=['UF','Rodovia','Data'])"
      ],
      "metadata": {
        "id": "GPbYgy8JIV41"
      },
      "execution_count": null,
      "outputs": []
    },
    {
      "cell_type": "code",
      "source": [
        "#lon23BA.drop(columns=['UF','Rodovia','Data','Observação'])"
      ],
      "metadata": {
        "id": "qUTA0a7IIsWu"
      },
      "execution_count": null,
      "outputs": []
    },
    {
      "cell_type": "code",
      "source": [
        "#bahia.drop(columns=['UF','Rodovia','Data'])"
      ],
      "metadata": {
        "id": "cEnfA15QKDjk"
      },
      "execution_count": null,
      "outputs": []
    },
    {
      "cell_type": "code",
      "source": [
        "#inputM=bahia.iloc[:,6:8].values #6:8\n",
        "#outputM=lon23BA.iloc[:,3:5].values#7:9"
      ],
      "metadata": {
        "id": "ZdhBi1IJKdmE"
      },
      "execution_count": null,
      "outputs": []
    }
  ],
  "metadata": {
    "colab": {
      "provenance": [],
      "authorship_tag": "ABX9TyMhZWuD+RYWpQw17MEVLVom",
      "include_colab_link": true
    },
    "kernelspec": {
      "display_name": "Python 3",
      "name": "python3"
    },
    "language_info": {
      "name": "python"
    }
  },
  "nbformat": 4,
  "nbformat_minor": 0
}