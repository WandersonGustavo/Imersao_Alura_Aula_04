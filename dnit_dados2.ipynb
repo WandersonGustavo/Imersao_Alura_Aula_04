{
  "cells": [
    {
      "cell_type": "markdown",
      "metadata": {
        "id": "view-in-github",
        "colab_type": "text"
      },
      "source": [
        "<a href=\"https://colab.research.google.com/github/WandersonGustavo/Imersao_Alura_Aula_04/blob/main/dnit_dados2.ipynb\" target=\"_parent\"><img src=\"https://colab.research.google.com/assets/colab-badge.svg\" alt=\"Open In Colab\"/></a>"
      ]
    },
    {
      "cell_type": "code",
      "execution_count": 1,
      "metadata": {
        "id": "heAwMKoTcnJk"
      },
      "outputs": [],
      "source": [
        "import pandas as pd\n",
        "import numpy as np\n",
        "import matplotlib.pyplot as plt\n",
        "import seaborn as sns\n",
        "import statistics  as sts\n",
        "from sklearn.model_selection import train_test_split\n",
        "from sklearn.linear_model import LinearRegression\n",
        "from sklearn.metrics import mean_squared_log_error\n",
        "from sklearn.metrics import mean_squared_error\n",
        "from sklearn.preprocessing import LabelEncoder"
      ]
    },
    {
      "cell_type": "code",
      "execution_count": 3,
      "metadata": {
        "colab": {
          "base_uri": "https://localhost:8080/",
          "height": 106
        },
        "id": "GXinMNX4D8tO",
        "outputId": "8794c005-8721-48cd-e7d3-11ccad3bcaa2"
      },
      "outputs": [
        {
          "output_type": "display_data",
          "data": {
            "text/plain": [
              "<IPython.core.display.HTML object>"
            ],
            "text/html": [
              "\n",
              "     <input type=\"file\" id=\"files-b81144e0-baf4-4b04-b561-345d9496f3bd\" name=\"files[]\" multiple disabled\n",
              "        style=\"border:none\" />\n",
              "     <output id=\"result-b81144e0-baf4-4b04-b561-345d9496f3bd\">\n",
              "      Upload widget is only available when the cell has been executed in the\n",
              "      current browser session. Please rerun this cell to enable.\n",
              "      </output>\n",
              "      <script>// Copyright 2017 Google LLC\n",
              "//\n",
              "// Licensed under the Apache License, Version 2.0 (the \"License\");\n",
              "// you may not use this file except in compliance with the License.\n",
              "// You may obtain a copy of the License at\n",
              "//\n",
              "//      http://www.apache.org/licenses/LICENSE-2.0\n",
              "//\n",
              "// Unless required by applicable law or agreed to in writing, software\n",
              "// distributed under the License is distributed on an \"AS IS\" BASIS,\n",
              "// WITHOUT WARRANTIES OR CONDITIONS OF ANY KIND, either express or implied.\n",
              "// See the License for the specific language governing permissions and\n",
              "// limitations under the License.\n",
              "\n",
              "/**\n",
              " * @fileoverview Helpers for google.colab Python module.\n",
              " */\n",
              "(function(scope) {\n",
              "function span(text, styleAttributes = {}) {\n",
              "  const element = document.createElement('span');\n",
              "  element.textContent = text;\n",
              "  for (const key of Object.keys(styleAttributes)) {\n",
              "    element.style[key] = styleAttributes[key];\n",
              "  }\n",
              "  return element;\n",
              "}\n",
              "\n",
              "// Max number of bytes which will be uploaded at a time.\n",
              "const MAX_PAYLOAD_SIZE = 100 * 1024;\n",
              "\n",
              "function _uploadFiles(inputId, outputId) {\n",
              "  const steps = uploadFilesStep(inputId, outputId);\n",
              "  const outputElement = document.getElementById(outputId);\n",
              "  // Cache steps on the outputElement to make it available for the next call\n",
              "  // to uploadFilesContinue from Python.\n",
              "  outputElement.steps = steps;\n",
              "\n",
              "  return _uploadFilesContinue(outputId);\n",
              "}\n",
              "\n",
              "// This is roughly an async generator (not supported in the browser yet),\n",
              "// where there are multiple asynchronous steps and the Python side is going\n",
              "// to poll for completion of each step.\n",
              "// This uses a Promise to block the python side on completion of each step,\n",
              "// then passes the result of the previous step as the input to the next step.\n",
              "function _uploadFilesContinue(outputId) {\n",
              "  const outputElement = document.getElementById(outputId);\n",
              "  const steps = outputElement.steps;\n",
              "\n",
              "  const next = steps.next(outputElement.lastPromiseValue);\n",
              "  return Promise.resolve(next.value.promise).then((value) => {\n",
              "    // Cache the last promise value to make it available to the next\n",
              "    // step of the generator.\n",
              "    outputElement.lastPromiseValue = value;\n",
              "    return next.value.response;\n",
              "  });\n",
              "}\n",
              "\n",
              "/**\n",
              " * Generator function which is called between each async step of the upload\n",
              " * process.\n",
              " * @param {string} inputId Element ID of the input file picker element.\n",
              " * @param {string} outputId Element ID of the output display.\n",
              " * @return {!Iterable<!Object>} Iterable of next steps.\n",
              " */\n",
              "function* uploadFilesStep(inputId, outputId) {\n",
              "  const inputElement = document.getElementById(inputId);\n",
              "  inputElement.disabled = false;\n",
              "\n",
              "  const outputElement = document.getElementById(outputId);\n",
              "  outputElement.innerHTML = '';\n",
              "\n",
              "  const pickedPromise = new Promise((resolve) => {\n",
              "    inputElement.addEventListener('change', (e) => {\n",
              "      resolve(e.target.files);\n",
              "    });\n",
              "  });\n",
              "\n",
              "  const cancel = document.createElement('button');\n",
              "  inputElement.parentElement.appendChild(cancel);\n",
              "  cancel.textContent = 'Cancel upload';\n",
              "  const cancelPromise = new Promise((resolve) => {\n",
              "    cancel.onclick = () => {\n",
              "      resolve(null);\n",
              "    };\n",
              "  });\n",
              "\n",
              "  // Wait for the user to pick the files.\n",
              "  const files = yield {\n",
              "    promise: Promise.race([pickedPromise, cancelPromise]),\n",
              "    response: {\n",
              "      action: 'starting',\n",
              "    }\n",
              "  };\n",
              "\n",
              "  cancel.remove();\n",
              "\n",
              "  // Disable the input element since further picks are not allowed.\n",
              "  inputElement.disabled = true;\n",
              "\n",
              "  if (!files) {\n",
              "    return {\n",
              "      response: {\n",
              "        action: 'complete',\n",
              "      }\n",
              "    };\n",
              "  }\n",
              "\n",
              "  for (const file of files) {\n",
              "    const li = document.createElement('li');\n",
              "    li.append(span(file.name, {fontWeight: 'bold'}));\n",
              "    li.append(span(\n",
              "        `(${file.type || 'n/a'}) - ${file.size} bytes, ` +\n",
              "        `last modified: ${\n",
              "            file.lastModifiedDate ? file.lastModifiedDate.toLocaleDateString() :\n",
              "                                    'n/a'} - `));\n",
              "    const percent = span('0% done');\n",
              "    li.appendChild(percent);\n",
              "\n",
              "    outputElement.appendChild(li);\n",
              "\n",
              "    const fileDataPromise = new Promise((resolve) => {\n",
              "      const reader = new FileReader();\n",
              "      reader.onload = (e) => {\n",
              "        resolve(e.target.result);\n",
              "      };\n",
              "      reader.readAsArrayBuffer(file);\n",
              "    });\n",
              "    // Wait for the data to be ready.\n",
              "    let fileData = yield {\n",
              "      promise: fileDataPromise,\n",
              "      response: {\n",
              "        action: 'continue',\n",
              "      }\n",
              "    };\n",
              "\n",
              "    // Use a chunked sending to avoid message size limits. See b/62115660.\n",
              "    let position = 0;\n",
              "    do {\n",
              "      const length = Math.min(fileData.byteLength - position, MAX_PAYLOAD_SIZE);\n",
              "      const chunk = new Uint8Array(fileData, position, length);\n",
              "      position += length;\n",
              "\n",
              "      const base64 = btoa(String.fromCharCode.apply(null, chunk));\n",
              "      yield {\n",
              "        response: {\n",
              "          action: 'append',\n",
              "          file: file.name,\n",
              "          data: base64,\n",
              "        },\n",
              "      };\n",
              "\n",
              "      let percentDone = fileData.byteLength === 0 ?\n",
              "          100 :\n",
              "          Math.round((position / fileData.byteLength) * 100);\n",
              "      percent.textContent = `${percentDone}% done`;\n",
              "\n",
              "    } while (position < fileData.byteLength);\n",
              "  }\n",
              "\n",
              "  // All done.\n",
              "  yield {\n",
              "    response: {\n",
              "      action: 'complete',\n",
              "    }\n",
              "  };\n",
              "}\n",
              "\n",
              "scope.google = scope.google || {};\n",
              "scope.google.colab = scope.google.colab || {};\n",
              "scope.google.colab._files = {\n",
              "  _uploadFiles,\n",
              "  _uploadFilesContinue,\n",
              "};\n",
              "})(self);\n",
              "</script> "
            ]
          },
          "metadata": {}
        },
        {
          "output_type": "stream",
          "name": "stdout",
          "text": [
            "Saving icm_12_2022.csv to icm_12_2022 (1).csv\n",
            "Saving icm_-01-2023-transparencia.csv to icm_-01-2023-transparencia.csv\n"
          ]
        }
      ],
      "source": [
        "from google.colab import files\n",
        "up=files.upload()"
      ]
    },
    {
      "cell_type": "code",
      "execution_count": 4,
      "metadata": {
        "id": "KH3tAYeEc1mK"
      },
      "outputs": [],
      "source": [
        "base=pd.read_csv('icm_-01-2023-transparencia.csv',on_bad_lines='skip',sep=\";\")\n"
      ]
    },
    {
      "cell_type": "code",
      "execution_count": 5,
      "metadata": {
        "id": "7AIhvGYteNVQ"
      },
      "outputs": [],
      "source": [
        "base.columns=['UF','Rodovia','km inicial','km final','Extensão (km)','Data','Latitude','Longitude','Observação','ICMNP']\n"
      ]
    },
    {
      "cell_type": "code",
      "execution_count": 6,
      "metadata": {
        "id": "eRFd8vv6dARV"
      },
      "outputs": [],
      "source": [
        "base2=pd.read_csv('icm_12_2022.csv',on_bad_lines='skip',sep=\";\")\n"
      ]
    },
    {
      "cell_type": "code",
      "execution_count": 7,
      "metadata": {
        "id": "70maqC8rgurW"
      },
      "outputs": [],
      "source": [
        "base2.columns=['UF','Rodovia','km inicial','km final','Extensão (km)','Data','Latitude','Longitude','ICC','ICP','ICM']\n"
      ]
    },
    {
      "cell_type": "code",
      "execution_count": 8,
      "metadata": {
        "id": "zpDdA9mrfErG"
      },
      "outputs": [],
      "source": [
        "#AGUPAR E EXIBIR DADOS DA BAHIA\n",
        "dadosBahia22=base2.groupby(['UF'])\n",
        "dadosBahia22\n",
        "dadosBahia22.get_group('BA')\n",
        "lat22BA=dadosBahia22.head(31)"
      ]
    },
    {
      "cell_type": "code",
      "execution_count": 9,
      "metadata": {
        "colab": {
          "base_uri": "https://localhost:8080/",
          "height": 174
        },
        "id": "wmvpXJI3k2KO",
        "outputId": "54a4e230-b711-47f8-e9ac-c38b135ec7a2"
      },
      "outputs": [
        {
          "output_type": "execute_result",
          "data": {
            "text/plain": [
              "        UF Rodovia km inicial km final Extensão (km)        Data     Latitude  \\\n",
              "count   31      31         31       31            31          31           31   \n",
              "unique   1       1         31       31             6           1            8   \n",
              "top     BA  BR-135    205,800  206,000         1,000  24/01/2023  -12,3693466   \n",
              "freq    31      31          1        1            24          31           22   \n",
              "\n",
              "        Longitude Observação   ICMNP  \n",
              "count          31          0      31  \n",
              "unique          8          0      19  \n",
              "top     -44,97331        NaN  76,250  \n",
              "freq           22        NaN       6  "
            ],
            "text/html": [
              "\n",
              "  <div id=\"df-6debc308-f983-4a1f-a830-5adebe14fd0b\">\n",
              "    <div class=\"colab-df-container\">\n",
              "      <div>\n",
              "<style scoped>\n",
              "    .dataframe tbody tr th:only-of-type {\n",
              "        vertical-align: middle;\n",
              "    }\n",
              "\n",
              "    .dataframe tbody tr th {\n",
              "        vertical-align: top;\n",
              "    }\n",
              "\n",
              "    .dataframe thead th {\n",
              "        text-align: right;\n",
              "    }\n",
              "</style>\n",
              "<table border=\"1\" class=\"dataframe\">\n",
              "  <thead>\n",
              "    <tr style=\"text-align: right;\">\n",
              "      <th></th>\n",
              "      <th>UF</th>\n",
              "      <th>Rodovia</th>\n",
              "      <th>km inicial</th>\n",
              "      <th>km final</th>\n",
              "      <th>Extensão (km)</th>\n",
              "      <th>Data</th>\n",
              "      <th>Latitude</th>\n",
              "      <th>Longitude</th>\n",
              "      <th>Observação</th>\n",
              "      <th>ICMNP</th>\n",
              "    </tr>\n",
              "  </thead>\n",
              "  <tbody>\n",
              "    <tr>\n",
              "      <th>count</th>\n",
              "      <td>31</td>\n",
              "      <td>31</td>\n",
              "      <td>31</td>\n",
              "      <td>31</td>\n",
              "      <td>31</td>\n",
              "      <td>31</td>\n",
              "      <td>31</td>\n",
              "      <td>31</td>\n",
              "      <td>0</td>\n",
              "      <td>31</td>\n",
              "    </tr>\n",
              "    <tr>\n",
              "      <th>unique</th>\n",
              "      <td>1</td>\n",
              "      <td>1</td>\n",
              "      <td>31</td>\n",
              "      <td>31</td>\n",
              "      <td>6</td>\n",
              "      <td>1</td>\n",
              "      <td>8</td>\n",
              "      <td>8</td>\n",
              "      <td>0</td>\n",
              "      <td>19</td>\n",
              "    </tr>\n",
              "    <tr>\n",
              "      <th>top</th>\n",
              "      <td>BA</td>\n",
              "      <td>BR-135</td>\n",
              "      <td>205,800</td>\n",
              "      <td>206,000</td>\n",
              "      <td>1,000</td>\n",
              "      <td>24/01/2023</td>\n",
              "      <td>-12,3693466</td>\n",
              "      <td>-44,97331</td>\n",
              "      <td>NaN</td>\n",
              "      <td>76,250</td>\n",
              "    </tr>\n",
              "    <tr>\n",
              "      <th>freq</th>\n",
              "      <td>31</td>\n",
              "      <td>31</td>\n",
              "      <td>1</td>\n",
              "      <td>1</td>\n",
              "      <td>24</td>\n",
              "      <td>31</td>\n",
              "      <td>22</td>\n",
              "      <td>22</td>\n",
              "      <td>NaN</td>\n",
              "      <td>6</td>\n",
              "    </tr>\n",
              "  </tbody>\n",
              "</table>\n",
              "</div>\n",
              "      <button class=\"colab-df-convert\" onclick=\"convertToInteractive('df-6debc308-f983-4a1f-a830-5adebe14fd0b')\"\n",
              "              title=\"Convert this dataframe to an interactive table.\"\n",
              "              style=\"display:none;\">\n",
              "        \n",
              "  <svg xmlns=\"http://www.w3.org/2000/svg\" height=\"24px\"viewBox=\"0 0 24 24\"\n",
              "       width=\"24px\">\n",
              "    <path d=\"M0 0h24v24H0V0z\" fill=\"none\"/>\n",
              "    <path d=\"M18.56 5.44l.94 2.06.94-2.06 2.06-.94-2.06-.94-.94-2.06-.94 2.06-2.06.94zm-11 1L8.5 8.5l.94-2.06 2.06-.94-2.06-.94L8.5 2.5l-.94 2.06-2.06.94zm10 10l.94 2.06.94-2.06 2.06-.94-2.06-.94-.94-2.06-.94 2.06-2.06.94z\"/><path d=\"M17.41 7.96l-1.37-1.37c-.4-.4-.92-.59-1.43-.59-.52 0-1.04.2-1.43.59L10.3 9.45l-7.72 7.72c-.78.78-.78 2.05 0 2.83L4 21.41c.39.39.9.59 1.41.59.51 0 1.02-.2 1.41-.59l7.78-7.78 2.81-2.81c.8-.78.8-2.07 0-2.86zM5.41 20L4 18.59l7.72-7.72 1.47 1.35L5.41 20z\"/>\n",
              "  </svg>\n",
              "      </button>\n",
              "      \n",
              "  <style>\n",
              "    .colab-df-container {\n",
              "      display:flex;\n",
              "      flex-wrap:wrap;\n",
              "      gap: 12px;\n",
              "    }\n",
              "\n",
              "    .colab-df-convert {\n",
              "      background-color: #E8F0FE;\n",
              "      border: none;\n",
              "      border-radius: 50%;\n",
              "      cursor: pointer;\n",
              "      display: none;\n",
              "      fill: #1967D2;\n",
              "      height: 32px;\n",
              "      padding: 0 0 0 0;\n",
              "      width: 32px;\n",
              "    }\n",
              "\n",
              "    .colab-df-convert:hover {\n",
              "      background-color: #E2EBFA;\n",
              "      box-shadow: 0px 1px 2px rgba(60, 64, 67, 0.3), 0px 1px 3px 1px rgba(60, 64, 67, 0.15);\n",
              "      fill: #174EA6;\n",
              "    }\n",
              "\n",
              "    [theme=dark] .colab-df-convert {\n",
              "      background-color: #3B4455;\n",
              "      fill: #D2E3FC;\n",
              "    }\n",
              "\n",
              "    [theme=dark] .colab-df-convert:hover {\n",
              "      background-color: #434B5C;\n",
              "      box-shadow: 0px 1px 3px 1px rgba(0, 0, 0, 0.15);\n",
              "      filter: drop-shadow(0px 1px 2px rgba(0, 0, 0, 0.3));\n",
              "      fill: #FFFFFF;\n",
              "    }\n",
              "  </style>\n",
              "\n",
              "      <script>\n",
              "        const buttonEl =\n",
              "          document.querySelector('#df-6debc308-f983-4a1f-a830-5adebe14fd0b button.colab-df-convert');\n",
              "        buttonEl.style.display =\n",
              "          google.colab.kernel.accessAllowed ? 'block' : 'none';\n",
              "\n",
              "        async function convertToInteractive(key) {\n",
              "          const element = document.querySelector('#df-6debc308-f983-4a1f-a830-5adebe14fd0b');\n",
              "          const dataTable =\n",
              "            await google.colab.kernel.invokeFunction('convertToInteractive',\n",
              "                                                     [key], {});\n",
              "          if (!dataTable) return;\n",
              "\n",
              "          const docLinkHtml = 'Like what you see? Visit the ' +\n",
              "            '<a target=\"_blank\" href=https://colab.research.google.com/notebooks/data_table.ipynb>data table notebook</a>'\n",
              "            + ' to learn more about interactive tables.';\n",
              "          element.innerHTML = '';\n",
              "          dataTable['output_type'] = 'display_data';\n",
              "          await google.colab.output.renderOutput(dataTable, element);\n",
              "          const docLink = document.createElement('div');\n",
              "          docLink.innerHTML = docLinkHtml;\n",
              "          element.appendChild(docLink);\n",
              "        }\n",
              "      </script>\n",
              "    </div>\n",
              "  </div>\n",
              "  "
            ]
          },
          "metadata": {},
          "execution_count": 9
        }
      ],
      "source": [
        "dadosBahia23=base.groupby(['UF'])\n",
        "dadosBahia23=dadosBahia23.get_group('BA')\n",
        "dadosBahia23.describe()"
      ]
    },
    {
      "cell_type": "code",
      "execution_count": null,
      "metadata": {
        "id": "hvph2hSAo1xZ"
      },
      "outputs": [],
      "source": [
        "#latitude dos trechos baianos\n",
        "longitude=base.groupby(['Longitude'])\n",
        "lon23BA=dadosBahia23\n",
        "lon23BA.Longitude.head(31)\n",
        "lon23BA.describe\n"
      ]
    },
    {
      "cell_type": "code",
      "execution_count": null,
      "metadata": {
        "id": "CVnaEUYrk08L"
      },
      "outputs": [],
      "source": [
        "\n",
        "icmnp=base.groupby(['ICMNP'])\n",
        "i23BA=dadosBahia23\n",
        "#lat23BA.Latitude.head(31)\n",
        "i23BA.describe"
      ]
    },
    {
      "cell_type": "code",
      "execution_count": null,
      "metadata": {
        "id": "P5ZJV7t6h3dn"
      },
      "outputs": [],
      "source": [
        "dadosBahia22=base2.groupby(['UF'])\n",
        "dadosBahia22=lat22BA\n",
        "dadosBahia22.describe()"
      ]
    },
    {
      "cell_type": "code",
      "execution_count": 13,
      "metadata": {
        "id": "PR83YS9AhqOw"
      },
      "outputs": [],
      "source": [
        "icm=base2.groupby(['ICM'])\n",
        "icm22BA=dadosBahia22.describe()\n",
        "#icm22BA.ICM.head(31)"
      ]
    },
    {
      "cell_type": "code",
      "execution_count": 14,
      "metadata": {
        "colab": {
          "base_uri": "https://localhost:8080/"
        },
        "id": "QzWs1mHrvahP",
        "outputId": "23108d62-da7c-458c-ee33-c4b14162dc27"
      },
      "outputs": [
        {
          "output_type": "execute_result",
          "data": {
            "text/plain": [
              "5"
            ]
          },
          "metadata": {},
          "execution_count": 14
        }
      ],
      "source": [
        "base2['ICM'].isnull().sum()\n"
      ]
    },
    {
      "cell_type": "code",
      "execution_count": null,
      "metadata": {
        "colab": {
          "base_uri": "https://localhost:8080/"
        },
        "id": "Kl6fbg-HqjFK",
        "outputId": "3729c54a-922b-441d-ffeb-ee93a3e8abc8"
      },
      "outputs": [
        {
          "data": {
            "text/plain": [
              "12.5"
            ]
          },
          "execution_count": 13,
          "metadata": {},
          "output_type": "execute_result"
        }
      ],
      "source": [
        "#\n",
        "a=\"12,5\"\n",
        "b=a.replace(\",\",\".\")\n",
        "b1=float(b)\n",
        "b1\n"
      ]
    },
    {
      "cell_type": "code",
      "execution_count": null,
      "metadata": {
        "id": "Goaxh8zs0LxF"
      },
      "outputs": [],
      "source": [
        "#TRANSFORMAÇÃO DOS DADOS DE STRING PRA FLOAT AGR PODE CORRELACIONAR\n",
        "#i23BA['ICMNP']=i23BA['ICMNP'].apply(lambda x: str(x).replace(\",\",\".\") )\n",
        "#i23BA=i23BA['ICMNP'].replace(\",\",\".\")\n",
        "#i23BA.astype('Float64')\n",
        "i23BA.describe"
      ]
    },
    {
      "cell_type": "code",
      "execution_count": null,
      "metadata": {
        "id": "DOXUle6Lp5ar"
      },
      "outputs": [],
      "source": [
        "#******************************************''DADOS DE 2022 ABAIXO''***********************************************************************\n",
        "#lon23BA['Longitude']=lon23BA['Longitude'].apply(lambda x: str(x).replace(\",\",\".\") )\n",
        "#lon23BA['Longitude']=lon23BA['Longitude'].astype('float64')"
      ]
    },
    {
      "cell_type": "code",
      "execution_count": null,
      "metadata": {
        "id": "Tin3bP8L-2Sc"
      },
      "outputs": [],
      "source": [
        "lon23BA.drop('Rodovia',axis=1)\n",
        "#lon23BA.loc[:,7]=lon23BA.astype('float64')"
      ]
    },
    {
      "cell_type": "code",
      "execution_count": null,
      "metadata": {
        "id": "t0wxTXUNBmkt"
      },
      "outputs": [],
      "source": [
        "lon23BA.drop('Rodovia',axis=1)"
      ]
    },
    {
      "cell_type": "code",
      "execution_count": null,
      "metadata": {
        "id": "YGXSKkMCCB8v"
      },
      "outputs": [],
      "source": [
        "lon23BA.drop('Observação',axis=1)"
      ]
    },
    {
      "cell_type": "code",
      "execution_count": null,
      "metadata": {
        "id": "akP9mf8QFVb8"
      },
      "outputs": [],
      "source": [
        "dadosBahia22.dtypes"
      ]
    },
    {
      "cell_type": "code",
      "execution_count": null,
      "metadata": {
        "id": "4u5veZFwFV5V"
      },
      "outputs": [],
      "source": [
        "dadosBahia22.drop('Rodovia',axis=1)"
      ]
    },
    {
      "cell_type": "code",
      "execution_count": null,
      "metadata": {
        "id": "Rg2XNPjJFWQX"
      },
      "outputs": [],
      "source": [
        "bahia=dadosBahia22.groupby(['UF'])\n",
        "bahia=bahia.get_group('BA')\n",
        "bahia.describe"
      ]
    },
    {
      "cell_type": "code",
      "execution_count": null,
      "metadata": {
        "id": "GSpA2m2iEm02"
      },
      "outputs": [],
      "source": [
        "bahia.drop('UF',axis=1)"
      ]
    },
    {
      "cell_type": "code",
      "execution_count": null,
      "metadata": {
        "id": "xM7RC4m6HkLk"
      },
      "outputs": [],
      "source": [
        "bahia.drop('Rodovia',axis=1)"
      ]
    },
    {
      "cell_type": "code",
      "execution_count": null,
      "metadata": {
        "id": "7W5fSp2_Hsk0"
      },
      "outputs": [],
      "source": [
        "bahia.drop('UF',axis=1)"
      ]
    },
    {
      "cell_type": "code",
      "execution_count": 25,
      "metadata": {
        "id": "BL4ozSnIKQGU",
        "colab": {
          "base_uri": "https://localhost:8080/"
        },
        "outputId": "354b4ab3-ecf0-4583-8ce5-1b868edab3e6"
      },
      "outputs": [
        {
          "output_type": "stream",
          "name": "stderr",
          "text": [
            "<ipython-input-25-97ce439f0967>:1: SettingWithCopyWarning: \n",
            "A value is trying to be set on a copy of a slice from a DataFrame.\n",
            "Try using .loc[row_indexer,col_indexer] = value instead\n",
            "\n",
            "See the caveats in the documentation: https://pandas.pydata.org/pandas-docs/stable/user_guide/indexing.html#returning-a-view-versus-a-copy\n",
            "  lon23BA['ICMNP']=lon23BA['ICMNP'].apply(lambda x: str(x).replace(\",\",\".\") )\n"
          ]
        }
      ],
      "source": [
        "lon23BA['ICMNP']=lon23BA['ICMNP'].apply(lambda x: str(x).replace(\",\",\".\") )\n",
        "#lon23BA['Longitude']=lon23BA['Longitude'].astype('float64')"
      ]
    },
    {
      "cell_type": "code",
      "execution_count": 26,
      "metadata": {
        "id": "ClxjQygOKqCt",
        "colab": {
          "base_uri": "https://localhost:8080/"
        },
        "outputId": "61568a25-5f5a-4cdd-d3e6-5684bd190812"
      },
      "outputs": [
        {
          "output_type": "stream",
          "name": "stderr",
          "text": [
            "<ipython-input-26-f7b53a27c5d3>:1: SettingWithCopyWarning: \n",
            "A value is trying to be set on a copy of a slice from a DataFrame.\n",
            "Try using .loc[row_indexer,col_indexer] = value instead\n",
            "\n",
            "See the caveats in the documentation: https://pandas.pydata.org/pandas-docs/stable/user_guide/indexing.html#returning-a-view-versus-a-copy\n",
            "  lon23BA['ICMNP']=lon23BA['ICMNP'].astype('float64')\n"
          ]
        }
      ],
      "source": [
        "lon23BA['ICMNP']=lon23BA['ICMNP'].astype('float64')"
      ]
    },
    {
      "cell_type": "code",
      "execution_count": null,
      "metadata": {
        "id": "8TfcnynOLmyg"
      },
      "outputs": [],
      "source": [
        "lon23BA.drop('Rodovia',axis=1)"
      ]
    },
    {
      "cell_type": "code",
      "execution_count": null,
      "metadata": {
        "id": "xn2n13ahMHTN"
      },
      "outputs": [],
      "source": [
        "lon23BA.drop('Observação',axis=1)"
      ]
    },
    {
      "cell_type": "code",
      "execution_count": null,
      "metadata": {
        "id": "3WitxlAMrQpO"
      },
      "outputs": [],
      "source": [
        "#l=lon23BA[['Longitude']].astype('float64')"
      ]
    },
    {
      "cell_type": "code",
      "execution_count": 29,
      "metadata": {
        "id": "5FNLVS8FMa8h"
      },
      "outputs": [],
      "source": [
        "j=lon23BA[['ICMNP']].astype('float64')"
      ]
    },
    {
      "cell_type": "code",
      "execution_count": null,
      "metadata": {
        "id": "O7SwsQJlCuvL"
      },
      "outputs": [],
      "source": [
        "lon23BA['Latitude']=lon23BA['Latitude'].apply(lambda x: str(x).replace(\",\",\".\") )"
      ]
    },
    {
      "cell_type": "code",
      "execution_count": null,
      "metadata": {
        "id": "uoMPOENoCvL6"
      },
      "outputs": [],
      "source": [
        "lon23BA['Latitude'].astype('float64')"
      ]
    },
    {
      "cell_type": "code",
      "execution_count": null,
      "metadata": {
        "id": "ScyzlT_-Gyd5"
      },
      "outputs": [],
      "source": [
        "lon23BA['Data'].astype('object')"
      ]
    },
    {
      "cell_type": "code",
      "execution_count": 33,
      "metadata": {
        "id": "3zRpPuA9Fnvl",
        "colab": {
          "base_uri": "https://localhost:8080/"
        },
        "outputId": "93239beb-54bc-4087-bbab-a6d1afe5c406"
      },
      "outputs": [
        {
          "output_type": "stream",
          "name": "stderr",
          "text": [
            "<ipython-input-33-5b5857e65cc9>:1: SettingWithCopyWarning: \n",
            "A value is trying to be set on a copy of a slice from a DataFrame.\n",
            "Try using .loc[row_indexer,col_indexer] = value instead\n",
            "\n",
            "See the caveats in the documentation: https://pandas.pydata.org/pandas-docs/stable/user_guide/indexing.html#returning-a-view-versus-a-copy\n",
            "  lon23BA['Data']=lon23BA['Data'].apply(lambda x: str(x).replace('01','24/01/2023') )\n"
          ]
        }
      ],
      "source": [
        "lon23BA['Data']=lon23BA['Data'].apply(lambda x: str(x).replace('01','24/01/2023') )"
      ]
    },
    {
      "cell_type": "code",
      "execution_count": 34,
      "metadata": {
        "id": "a1ryEl0wrjqO"
      },
      "outputs": [],
      "source": [
        "pergunta=lon23BA.iloc[:,0].values\n",
        "resposta=j.iloc[:,0].values"
      ]
    },
    {
      "cell_type": "code",
      "execution_count": null,
      "metadata": {
        "id": "tEdDmeRCGZop"
      },
      "outputs": [],
      "source": [
        "lon23BA['Data'].describe"
      ]
    },
    {
      "cell_type": "code",
      "execution_count": null,
      "metadata": {
        "id": "Pc7OtsK7L98A"
      },
      "outputs": [],
      "source": [
        "lon23BA['Longitude'].describe"
      ]
    },
    {
      "cell_type": "code",
      "execution_count": 37,
      "metadata": {
        "id": "1hDMyIc-R_16",
        "colab": {
          "base_uri": "https://localhost:8080/"
        },
        "outputId": "5fc6db21-c83f-4b3f-809f-8c835ed2bfff"
      },
      "outputs": [
        {
          "output_type": "stream",
          "name": "stderr",
          "text": [
            "<ipython-input-37-6cc23db75901>:1: SettingWithCopyWarning: \n",
            "A value is trying to be set on a copy of a slice from a DataFrame.\n",
            "Try using .loc[row_indexer,col_indexer] = value instead\n",
            "\n",
            "See the caveats in the documentation: https://pandas.pydata.org/pandas-docs/stable/user_guide/indexing.html#returning-a-view-versus-a-copy\n",
            "  lon23BA['Longitude']=lon23BA['Longitude'].apply(lambda x: str(x).replace(\",\",\".\") )\n"
          ]
        }
      ],
      "source": [
        "lon23BA['Longitude']=lon23BA['Longitude'].apply(lambda x: str(x).replace(\",\",\".\") )"
      ]
    },
    {
      "cell_type": "code",
      "execution_count": null,
      "metadata": {
        "id": "psTJm9J4SL6W"
      },
      "outputs": [],
      "source": [
        "lon23BA['Longitude'].astype('float64')"
      ]
    },
    {
      "cell_type": "code",
      "execution_count": 39,
      "metadata": {
        "id": "blc_VFRnG5XS"
      },
      "outputs": [],
      "source": [
        "\n",
        "def clean_df(entradaM):\n",
        "    e=entradaM.reshape(1,-1)\n",
        "    assert isinstance(e)\n",
        "    e.dropna(inplace=True)\n",
        "    indices_to_keep = e.isin([np.nan, np.inf, -np.inf]).any(axis=1)\n",
        "    return  e[indices_to_keep].astype(np.float64)"
      ]
    },
    {
      "cell_type": "code",
      "execution_count": 40,
      "metadata": {
        "id": "rJEPdMrEGxWy"
      },
      "outputs": [],
      "source": [
        "\n",
        "def clean_df2(saidaM):\n",
        "    s=saidaM.reshape(1,-1)\n",
        "    assert isinstance(s)\n",
        "    s.dropna(inplace=True)\n",
        "    indices_to_keep = s.isin([np.nan, np.inf, -np.inf]).any(axis=1)\n",
        "    return s[indices_to_keep].astype(np.float64)"
      ]
    },
    {
      "cell_type": "code",
      "source": [
        "lon23BA.drop(columns=['Observação'])\n",
        "#print(entradaM)"
      ],
      "metadata": {
        "id": "9_ZpRiEq84Zo"
      },
      "execution_count": null,
      "outputs": []
    },
    {
      "cell_type": "code",
      "source": [
        "bahia"
      ],
      "metadata": {
        "id": "ztMHTUazBJAJ"
      },
      "execution_count": null,
      "outputs": []
    },
    {
      "cell_type": "code",
      "source": [
        "bahia.drop('UF',axis=1)"
      ],
      "metadata": {
        "id": "EstMgdiLCXKQ"
      },
      "execution_count": null,
      "outputs": []
    },
    {
      "cell_type": "code",
      "source": [
        "bahia.drop('Rodovia',axis=1)"
      ],
      "metadata": {
        "id": "VoZEi9NVCakP"
      },
      "execution_count": null,
      "outputs": []
    },
    {
      "cell_type": "code",
      "source": [
        "bahia.drop('UF',axis=1)"
      ],
      "metadata": {
        "id": "Cr-gsLP6C4kK"
      },
      "execution_count": null,
      "outputs": []
    },
    {
      "cell_type": "code",
      "source": [
        "bahia['ICC']=bahia['ICC'].apply(lambda x: str(x).replace(\",\",\".\") )"
      ],
      "metadata": {
        "colab": {
          "base_uri": "https://localhost:8080/"
        },
        "id": "w5M477YiFRpl",
        "outputId": "369624c8-aaf2-449a-dd5e-7d51960a65d4"
      },
      "execution_count": 49,
      "outputs": [
        {
          "output_type": "stream",
          "name": "stderr",
          "text": [
            "<ipython-input-49-f74a8b074abf>:1: SettingWithCopyWarning: \n",
            "A value is trying to be set on a copy of a slice from a DataFrame.\n",
            "Try using .loc[row_indexer,col_indexer] = value instead\n",
            "\n",
            "See the caveats in the documentation: https://pandas.pydata.org/pandas-docs/stable/user_guide/indexing.html#returning-a-view-versus-a-copy\n",
            "  bahia['ICC']=bahia['ICC'].apply(lambda x: str(x).replace(\",\",\".\") )\n"
          ]
        }
      ]
    },
    {
      "cell_type": "code",
      "source": [
        "bahia['ICP']=bahia['ICP'].apply(lambda x: str(x).replace(\",\",\".\") )"
      ],
      "metadata": {
        "id": "WtQjIqStFeNZ",
        "colab": {
          "base_uri": "https://localhost:8080/"
        },
        "outputId": "957482c1-3d6c-4d8f-b4bb-ebf2eb1f2a35"
      },
      "execution_count": 52,
      "outputs": [
        {
          "output_type": "stream",
          "name": "stderr",
          "text": [
            "<ipython-input-52-da1e327eb4ec>:1: SettingWithCopyWarning: \n",
            "A value is trying to be set on a copy of a slice from a DataFrame.\n",
            "Try using .loc[row_indexer,col_indexer] = value instead\n",
            "\n",
            "See the caveats in the documentation: https://pandas.pydata.org/pandas-docs/stable/user_guide/indexing.html#returning-a-view-versus-a-copy\n",
            "  bahia['ICP']=bahia['ICP'].apply(lambda x: str(x).replace(\",\",\".\") )\n"
          ]
        }
      ]
    },
    {
      "cell_type": "code",
      "source": [
        "bahia['ICM']=bahia['ICM'].apply(lambda x: str(x).replace(\",\",\".\") )"
      ],
      "metadata": {
        "colab": {
          "base_uri": "https://localhost:8080/"
        },
        "id": "5fgdxDvMnIVs",
        "outputId": "440ec8b5-6293-4053-a7a3-fd40df43eff0"
      },
      "execution_count": 53,
      "outputs": [
        {
          "output_type": "stream",
          "name": "stderr",
          "text": [
            "<ipython-input-53-a850a8e51687>:1: SettingWithCopyWarning: \n",
            "A value is trying to be set on a copy of a slice from a DataFrame.\n",
            "Try using .loc[row_indexer,col_indexer] = value instead\n",
            "\n",
            "See the caveats in the documentation: https://pandas.pydata.org/pandas-docs/stable/user_guide/indexing.html#returning-a-view-versus-a-copy\n",
            "  bahia['ICM']=bahia['ICM'].apply(lambda x: str(x).replace(\",\",\".\") )\n"
          ]
        }
      ]
    },
    {
      "cell_type": "code",
      "source": [
        "bahia"
      ],
      "metadata": {
        "id": "pnk1rC9PnPxb"
      },
      "execution_count": null,
      "outputs": []
    },
    {
      "cell_type": "code",
      "source": [
        "bahia['ICC'].astype('float64')"
      ],
      "metadata": {
        "id": "NsE6PDs0nU4X"
      },
      "execution_count": null,
      "outputs": []
    },
    {
      "cell_type": "code",
      "source": [
        "bahia['ICM'].astype('float64')"
      ],
      "metadata": {
        "id": "o06RKXb_nyPn"
      },
      "execution_count": null,
      "outputs": []
    },
    {
      "cell_type": "code",
      "source": [
        "bahia['ICP'].astype('float64')"
      ],
      "metadata": {
        "id": "N9ylxSCMny6k"
      },
      "execution_count": null,
      "outputs": []
    },
    {
      "cell_type": "code",
      "source": [
        "#np.column_stack((entradaM,saidaM))"
      ],
      "metadata": {
        "id": "L6GzqaNloOLb"
      },
      "execution_count": null,
      "outputs": []
    },
    {
      "cell_type": "code",
      "source": [
        "bahia.drop(columns=['UF','Rodovia','Data'])"
      ],
      "metadata": {
        "id": "ckNf5LR4oV-H"
      },
      "execution_count": null,
      "outputs": []
    },
    {
      "cell_type": "code",
      "source": [
        "bahia['Longitude']=bahia['Longitude'].apply(lambda x: str(x).replace(\",\",\".\") )"
      ],
      "metadata": {
        "id": "UcybAyNdqv1x"
      },
      "execution_count": null,
      "outputs": []
    },
    {
      "cell_type": "code",
      "source": [
        "bahia['Longitude'].astype('float64')"
      ],
      "metadata": {
        "id": "TYc4-SNXqwq8"
      },
      "execution_count": null,
      "outputs": []
    },
    {
      "cell_type": "code",
      "source": [
        "bahia['Latitude']=bahia['Latitude'].apply(lambda x: str(x).replace(\",\",\".\") )"
      ],
      "metadata": {
        "id": "LDg0F2r0rIWr"
      },
      "execution_count": null,
      "outputs": []
    },
    {
      "cell_type": "code",
      "source": [
        "bahia['Latitude'].astype('float64')"
      ],
      "metadata": {
        "id": "Y0_ARsK8rJPK"
      },
      "execution_count": null,
      "outputs": []
    },
    {
      "cell_type": "code",
      "source": [
        "bahia['km inicial']=bahia['km inicial'].apply(lambda x: str(x).replace(\",\",\".\") )"
      ],
      "metadata": {
        "id": "iHSOonLNrYiX"
      },
      "execution_count": null,
      "outputs": []
    },
    {
      "cell_type": "code",
      "source": [
        "bahia['km inicial'].astype('float64')"
      ],
      "metadata": {
        "id": "AlzcZLMzrZYd"
      },
      "execution_count": null,
      "outputs": []
    },
    {
      "cell_type": "code",
      "source": [
        "bahia['km final']=bahia['km final'].apply(lambda x: str(x).replace(\",\",\".\") )"
      ],
      "metadata": {
        "id": "CetqOeKRr1o9"
      },
      "execution_count": null,
      "outputs": []
    },
    {
      "cell_type": "code",
      "source": [
        "bahia['km final'].astype('float64')"
      ],
      "metadata": {
        "id": "u2P2lD6gr2jC"
      },
      "execution_count": null,
      "outputs": []
    },
    {
      "cell_type": "code",
      "source": [
        "bahia['Extensão (km)']=bahia['Extensão (km)'].apply(lambda x: str(x).replace(\",\",\".\") )"
      ],
      "metadata": {
        "id": "nI7G7OKPsTUU"
      },
      "execution_count": null,
      "outputs": []
    },
    {
      "cell_type": "code",
      "source": [
        "bahia['Extensão (km)'].astype('float64')"
      ],
      "metadata": {
        "id": "CdMrgU7XsUVa"
      },
      "execution_count": null,
      "outputs": []
    },
    {
      "cell_type": "code",
      "source": [
        "entradaM=bahia.iloc[:,6:8].values #6:8\n",
        "saidaM=lon23BA.iloc[:,6:8].values#7:9"
      ],
      "metadata": {
        "id": "91o3AOXrotsX"
      },
      "execution_count": 94,
      "outputs": []
    },
    {
      "cell_type": "code",
      "source": [
        "bahia"
      ],
      "metadata": {
        "colab": {
          "base_uri": "https://localhost:8080/",
          "height": 1000
        },
        "id": "H63fDIj9sKGG",
        "outputId": "cdc1f0d2-248f-420b-99c6-0286358b421d"
      },
      "execution_count": 95,
      "outputs": [
        {
          "output_type": "execute_result",
          "data": {
            "text/plain": [
              "      UF Rodovia km inicial km final Extensão (km)        Data     Latitude  \\\n",
              "9511  BA  BR-242    538.500  539.000         0.500  08/12/2022   -12.195745   \n",
              "9512  BA  BR-242    539.000  540.000         1.000  08/12/2022  -12.2463916   \n",
              "9513  BA  BR-242    540.000  541.000         1.000  08/12/2022  -12.2463916   \n",
              "9514  BA  BR-242    541.000  542.000         1.000  08/12/2022  -12.2463916   \n",
              "9515  BA  BR-242    542.000  543.000         1.000  08/12/2022  -12.2463916   \n",
              "9516  BA  BR-242    543.000  544.000         1.000  08/12/2022  -12.2463916   \n",
              "9517  BA  BR-242    544.000  545.000         1.000  08/12/2022  -12.2463916   \n",
              "9518  BA  BR-242    545.000  546.000         1.000  08/12/2022  -12.2463916   \n",
              "9519  BA  BR-242    546.000  547.000         1.000  08/12/2022  -12.2463916   \n",
              "9520  BA  BR-242    547.000  548.000         1.000  08/12/2022  -12.2463916   \n",
              "9521  BA  BR-242    548.000  549.000         1.000  08/12/2022  -12.2463916   \n",
              "9522  BA  BR-242    549.000  550.000         1.000  08/12/2022  -12.2463916   \n",
              "9523  BA  BR-242    550.000  551.000         1.000  08/12/2022  -12.2463916   \n",
              "9524  BA  BR-242    551.000  552.000         1.000  08/12/2022  -12.2463916   \n",
              "9525  BA  BR-242    552.000  553.000         1.000  08/12/2022  -12.2463916   \n",
              "9526  BA  BR-242    553.000  554.000         1.000  08/12/2022  -12.2463916   \n",
              "9527  BA  BR-242    554.000  555.000         1.000  08/12/2022  -12.2463916   \n",
              "9528  BA  BR-242    555.000  556.000         1.000  08/12/2022  -12.2463916   \n",
              "9529  BA  BR-242    556.000  557.000         1.000  08/12/2022  -12.2463916   \n",
              "9530  BA  BR-242    557.000  558.000         1.000  08/12/2022  -12.2463916   \n",
              "9531  BA  BR-242    558.000  559.000         1.000  08/12/2022  -12.2463916   \n",
              "9532  BA  BR-242    559.000  560.000         1.000  08/12/2022  -12.2463916   \n",
              "9533  BA  BR-242    560.000  561.000         1.000  08/12/2022  -12.2463916   \n",
              "9534  BA  BR-242    561.000  562.000         1.000  08/12/2022  -12.2463916   \n",
              "9535  BA  BR-242    562.000  563.000         1.000  08/12/2022  -12.2463916   \n",
              "9536  BA  BR-242    563.000  564.000         1.000  08/12/2022  -12.2463916   \n",
              "9537  BA  BR-242    564.000  565.000         1.000  08/12/2022  -12.2463916   \n",
              "9538  BA  BR-242    565.000  566.000         1.000  08/12/2022  -12.2463916   \n",
              "9539  BA  BR-242    566.000  567.000         1.000  08/12/2022  -12.2463916   \n",
              "9540  BA  BR-242    567.000  568.000         1.000  08/12/2022  -12.2463916   \n",
              "9541  BA  BR-242    568.000  569.000         1.000  08/12/2022  -12.2463916   \n",
              "\n",
              "        Longitude     ICC      ICP     ICM  \n",
              "9511    -43.70278  65.000   20.000  33.500  \n",
              "9512  -42.7666333  40.000    5.000  15.500  \n",
              "9513  -42.7666333  40.000    5.000  15.500  \n",
              "9514  -42.7666333  40.000    7.500  17.250  \n",
              "9515  -42.7666333  40.000   40.000  40.000  \n",
              "9516  -42.7666333  40.000   50.000  47.000  \n",
              "9517  -42.7666333  40.000   50.000  47.000  \n",
              "9518  -42.7666333  40.000   52.500  48.750  \n",
              "9519  -42.7666333  40.000   40.000  40.000  \n",
              "9520  -42.7666333  40.000   52.500  48.750  \n",
              "9521  -42.7666333  40.000   10.000  19.000  \n",
              "9522  -42.7666333  40.000   30.000  33.000  \n",
              "9523  -42.7666333  40.000   22.500  27.750  \n",
              "9524  -42.7666333  50.000    5.000  18.500  \n",
              "9525  -42.7666333  40.000   35.000  36.500  \n",
              "9526  -42.7666333  32.500   10.000  16.750  \n",
              "9527  -42.7666333  40.000   25.000  29.500  \n",
              "9528  -42.7666333  40.000   50.000  47.000  \n",
              "9529  -42.7666333  40.000   10.000  19.000  \n",
              "9530  -42.7666333  40.000   20.000  26.000  \n",
              "9531  -42.7666333  40.000   77.500  66.250  \n",
              "9532  -42.7666333  40.000    0.000  12.000  \n",
              "9533  -42.7666333  40.000    0.000  12.000  \n",
              "9534  -42.7666333  42.500   12.500  21.500  \n",
              "9535  -42.7666333  40.000    5.000  15.500  \n",
              "9536  -42.7666333  32.500    5.000  13.250  \n",
              "9537  -42.7666333  40.000  100.000  82.000  \n",
              "9538  -42.7666333  40.000   35.000  36.500  \n",
              "9539  -42.7666333  50.000   20.000  29.000  \n",
              "9540  -42.7666333  40.000   12.500  20.750  \n",
              "9541  -42.7666333  50.000   50.000  50.000  "
            ],
            "text/html": [
              "\n",
              "  <div id=\"df-2fc44a7e-338e-4018-a1db-d774fb840665\">\n",
              "    <div class=\"colab-df-container\">\n",
              "      <div>\n",
              "<style scoped>\n",
              "    .dataframe tbody tr th:only-of-type {\n",
              "        vertical-align: middle;\n",
              "    }\n",
              "\n",
              "    .dataframe tbody tr th {\n",
              "        vertical-align: top;\n",
              "    }\n",
              "\n",
              "    .dataframe thead th {\n",
              "        text-align: right;\n",
              "    }\n",
              "</style>\n",
              "<table border=\"1\" class=\"dataframe\">\n",
              "  <thead>\n",
              "    <tr style=\"text-align: right;\">\n",
              "      <th></th>\n",
              "      <th>UF</th>\n",
              "      <th>Rodovia</th>\n",
              "      <th>km inicial</th>\n",
              "      <th>km final</th>\n",
              "      <th>Extensão (km)</th>\n",
              "      <th>Data</th>\n",
              "      <th>Latitude</th>\n",
              "      <th>Longitude</th>\n",
              "      <th>ICC</th>\n",
              "      <th>ICP</th>\n",
              "      <th>ICM</th>\n",
              "    </tr>\n",
              "  </thead>\n",
              "  <tbody>\n",
              "    <tr>\n",
              "      <th>9511</th>\n",
              "      <td>BA</td>\n",
              "      <td>BR-242</td>\n",
              "      <td>538.500</td>\n",
              "      <td>539.000</td>\n",
              "      <td>0.500</td>\n",
              "      <td>08/12/2022</td>\n",
              "      <td>-12.195745</td>\n",
              "      <td>-43.70278</td>\n",
              "      <td>65.000</td>\n",
              "      <td>20.000</td>\n",
              "      <td>33.500</td>\n",
              "    </tr>\n",
              "    <tr>\n",
              "      <th>9512</th>\n",
              "      <td>BA</td>\n",
              "      <td>BR-242</td>\n",
              "      <td>539.000</td>\n",
              "      <td>540.000</td>\n",
              "      <td>1.000</td>\n",
              "      <td>08/12/2022</td>\n",
              "      <td>-12.2463916</td>\n",
              "      <td>-42.7666333</td>\n",
              "      <td>40.000</td>\n",
              "      <td>5.000</td>\n",
              "      <td>15.500</td>\n",
              "    </tr>\n",
              "    <tr>\n",
              "      <th>9513</th>\n",
              "      <td>BA</td>\n",
              "      <td>BR-242</td>\n",
              "      <td>540.000</td>\n",
              "      <td>541.000</td>\n",
              "      <td>1.000</td>\n",
              "      <td>08/12/2022</td>\n",
              "      <td>-12.2463916</td>\n",
              "      <td>-42.7666333</td>\n",
              "      <td>40.000</td>\n",
              "      <td>5.000</td>\n",
              "      <td>15.500</td>\n",
              "    </tr>\n",
              "    <tr>\n",
              "      <th>9514</th>\n",
              "      <td>BA</td>\n",
              "      <td>BR-242</td>\n",
              "      <td>541.000</td>\n",
              "      <td>542.000</td>\n",
              "      <td>1.000</td>\n",
              "      <td>08/12/2022</td>\n",
              "      <td>-12.2463916</td>\n",
              "      <td>-42.7666333</td>\n",
              "      <td>40.000</td>\n",
              "      <td>7.500</td>\n",
              "      <td>17.250</td>\n",
              "    </tr>\n",
              "    <tr>\n",
              "      <th>9515</th>\n",
              "      <td>BA</td>\n",
              "      <td>BR-242</td>\n",
              "      <td>542.000</td>\n",
              "      <td>543.000</td>\n",
              "      <td>1.000</td>\n",
              "      <td>08/12/2022</td>\n",
              "      <td>-12.2463916</td>\n",
              "      <td>-42.7666333</td>\n",
              "      <td>40.000</td>\n",
              "      <td>40.000</td>\n",
              "      <td>40.000</td>\n",
              "    </tr>\n",
              "    <tr>\n",
              "      <th>9516</th>\n",
              "      <td>BA</td>\n",
              "      <td>BR-242</td>\n",
              "      <td>543.000</td>\n",
              "      <td>544.000</td>\n",
              "      <td>1.000</td>\n",
              "      <td>08/12/2022</td>\n",
              "      <td>-12.2463916</td>\n",
              "      <td>-42.7666333</td>\n",
              "      <td>40.000</td>\n",
              "      <td>50.000</td>\n",
              "      <td>47.000</td>\n",
              "    </tr>\n",
              "    <tr>\n",
              "      <th>9517</th>\n",
              "      <td>BA</td>\n",
              "      <td>BR-242</td>\n",
              "      <td>544.000</td>\n",
              "      <td>545.000</td>\n",
              "      <td>1.000</td>\n",
              "      <td>08/12/2022</td>\n",
              "      <td>-12.2463916</td>\n",
              "      <td>-42.7666333</td>\n",
              "      <td>40.000</td>\n",
              "      <td>50.000</td>\n",
              "      <td>47.000</td>\n",
              "    </tr>\n",
              "    <tr>\n",
              "      <th>9518</th>\n",
              "      <td>BA</td>\n",
              "      <td>BR-242</td>\n",
              "      <td>545.000</td>\n",
              "      <td>546.000</td>\n",
              "      <td>1.000</td>\n",
              "      <td>08/12/2022</td>\n",
              "      <td>-12.2463916</td>\n",
              "      <td>-42.7666333</td>\n",
              "      <td>40.000</td>\n",
              "      <td>52.500</td>\n",
              "      <td>48.750</td>\n",
              "    </tr>\n",
              "    <tr>\n",
              "      <th>9519</th>\n",
              "      <td>BA</td>\n",
              "      <td>BR-242</td>\n",
              "      <td>546.000</td>\n",
              "      <td>547.000</td>\n",
              "      <td>1.000</td>\n",
              "      <td>08/12/2022</td>\n",
              "      <td>-12.2463916</td>\n",
              "      <td>-42.7666333</td>\n",
              "      <td>40.000</td>\n",
              "      <td>40.000</td>\n",
              "      <td>40.000</td>\n",
              "    </tr>\n",
              "    <tr>\n",
              "      <th>9520</th>\n",
              "      <td>BA</td>\n",
              "      <td>BR-242</td>\n",
              "      <td>547.000</td>\n",
              "      <td>548.000</td>\n",
              "      <td>1.000</td>\n",
              "      <td>08/12/2022</td>\n",
              "      <td>-12.2463916</td>\n",
              "      <td>-42.7666333</td>\n",
              "      <td>40.000</td>\n",
              "      <td>52.500</td>\n",
              "      <td>48.750</td>\n",
              "    </tr>\n",
              "    <tr>\n",
              "      <th>9521</th>\n",
              "      <td>BA</td>\n",
              "      <td>BR-242</td>\n",
              "      <td>548.000</td>\n",
              "      <td>549.000</td>\n",
              "      <td>1.000</td>\n",
              "      <td>08/12/2022</td>\n",
              "      <td>-12.2463916</td>\n",
              "      <td>-42.7666333</td>\n",
              "      <td>40.000</td>\n",
              "      <td>10.000</td>\n",
              "      <td>19.000</td>\n",
              "    </tr>\n",
              "    <tr>\n",
              "      <th>9522</th>\n",
              "      <td>BA</td>\n",
              "      <td>BR-242</td>\n",
              "      <td>549.000</td>\n",
              "      <td>550.000</td>\n",
              "      <td>1.000</td>\n",
              "      <td>08/12/2022</td>\n",
              "      <td>-12.2463916</td>\n",
              "      <td>-42.7666333</td>\n",
              "      <td>40.000</td>\n",
              "      <td>30.000</td>\n",
              "      <td>33.000</td>\n",
              "    </tr>\n",
              "    <tr>\n",
              "      <th>9523</th>\n",
              "      <td>BA</td>\n",
              "      <td>BR-242</td>\n",
              "      <td>550.000</td>\n",
              "      <td>551.000</td>\n",
              "      <td>1.000</td>\n",
              "      <td>08/12/2022</td>\n",
              "      <td>-12.2463916</td>\n",
              "      <td>-42.7666333</td>\n",
              "      <td>40.000</td>\n",
              "      <td>22.500</td>\n",
              "      <td>27.750</td>\n",
              "    </tr>\n",
              "    <tr>\n",
              "      <th>9524</th>\n",
              "      <td>BA</td>\n",
              "      <td>BR-242</td>\n",
              "      <td>551.000</td>\n",
              "      <td>552.000</td>\n",
              "      <td>1.000</td>\n",
              "      <td>08/12/2022</td>\n",
              "      <td>-12.2463916</td>\n",
              "      <td>-42.7666333</td>\n",
              "      <td>50.000</td>\n",
              "      <td>5.000</td>\n",
              "      <td>18.500</td>\n",
              "    </tr>\n",
              "    <tr>\n",
              "      <th>9525</th>\n",
              "      <td>BA</td>\n",
              "      <td>BR-242</td>\n",
              "      <td>552.000</td>\n",
              "      <td>553.000</td>\n",
              "      <td>1.000</td>\n",
              "      <td>08/12/2022</td>\n",
              "      <td>-12.2463916</td>\n",
              "      <td>-42.7666333</td>\n",
              "      <td>40.000</td>\n",
              "      <td>35.000</td>\n",
              "      <td>36.500</td>\n",
              "    </tr>\n",
              "    <tr>\n",
              "      <th>9526</th>\n",
              "      <td>BA</td>\n",
              "      <td>BR-242</td>\n",
              "      <td>553.000</td>\n",
              "      <td>554.000</td>\n",
              "      <td>1.000</td>\n",
              "      <td>08/12/2022</td>\n",
              "      <td>-12.2463916</td>\n",
              "      <td>-42.7666333</td>\n",
              "      <td>32.500</td>\n",
              "      <td>10.000</td>\n",
              "      <td>16.750</td>\n",
              "    </tr>\n",
              "    <tr>\n",
              "      <th>9527</th>\n",
              "      <td>BA</td>\n",
              "      <td>BR-242</td>\n",
              "      <td>554.000</td>\n",
              "      <td>555.000</td>\n",
              "      <td>1.000</td>\n",
              "      <td>08/12/2022</td>\n",
              "      <td>-12.2463916</td>\n",
              "      <td>-42.7666333</td>\n",
              "      <td>40.000</td>\n",
              "      <td>25.000</td>\n",
              "      <td>29.500</td>\n",
              "    </tr>\n",
              "    <tr>\n",
              "      <th>9528</th>\n",
              "      <td>BA</td>\n",
              "      <td>BR-242</td>\n",
              "      <td>555.000</td>\n",
              "      <td>556.000</td>\n",
              "      <td>1.000</td>\n",
              "      <td>08/12/2022</td>\n",
              "      <td>-12.2463916</td>\n",
              "      <td>-42.7666333</td>\n",
              "      <td>40.000</td>\n",
              "      <td>50.000</td>\n",
              "      <td>47.000</td>\n",
              "    </tr>\n",
              "    <tr>\n",
              "      <th>9529</th>\n",
              "      <td>BA</td>\n",
              "      <td>BR-242</td>\n",
              "      <td>556.000</td>\n",
              "      <td>557.000</td>\n",
              "      <td>1.000</td>\n",
              "      <td>08/12/2022</td>\n",
              "      <td>-12.2463916</td>\n",
              "      <td>-42.7666333</td>\n",
              "      <td>40.000</td>\n",
              "      <td>10.000</td>\n",
              "      <td>19.000</td>\n",
              "    </tr>\n",
              "    <tr>\n",
              "      <th>9530</th>\n",
              "      <td>BA</td>\n",
              "      <td>BR-242</td>\n",
              "      <td>557.000</td>\n",
              "      <td>558.000</td>\n",
              "      <td>1.000</td>\n",
              "      <td>08/12/2022</td>\n",
              "      <td>-12.2463916</td>\n",
              "      <td>-42.7666333</td>\n",
              "      <td>40.000</td>\n",
              "      <td>20.000</td>\n",
              "      <td>26.000</td>\n",
              "    </tr>\n",
              "    <tr>\n",
              "      <th>9531</th>\n",
              "      <td>BA</td>\n",
              "      <td>BR-242</td>\n",
              "      <td>558.000</td>\n",
              "      <td>559.000</td>\n",
              "      <td>1.000</td>\n",
              "      <td>08/12/2022</td>\n",
              "      <td>-12.2463916</td>\n",
              "      <td>-42.7666333</td>\n",
              "      <td>40.000</td>\n",
              "      <td>77.500</td>\n",
              "      <td>66.250</td>\n",
              "    </tr>\n",
              "    <tr>\n",
              "      <th>9532</th>\n",
              "      <td>BA</td>\n",
              "      <td>BR-242</td>\n",
              "      <td>559.000</td>\n",
              "      <td>560.000</td>\n",
              "      <td>1.000</td>\n",
              "      <td>08/12/2022</td>\n",
              "      <td>-12.2463916</td>\n",
              "      <td>-42.7666333</td>\n",
              "      <td>40.000</td>\n",
              "      <td>0.000</td>\n",
              "      <td>12.000</td>\n",
              "    </tr>\n",
              "    <tr>\n",
              "      <th>9533</th>\n",
              "      <td>BA</td>\n",
              "      <td>BR-242</td>\n",
              "      <td>560.000</td>\n",
              "      <td>561.000</td>\n",
              "      <td>1.000</td>\n",
              "      <td>08/12/2022</td>\n",
              "      <td>-12.2463916</td>\n",
              "      <td>-42.7666333</td>\n",
              "      <td>40.000</td>\n",
              "      <td>0.000</td>\n",
              "      <td>12.000</td>\n",
              "    </tr>\n",
              "    <tr>\n",
              "      <th>9534</th>\n",
              "      <td>BA</td>\n",
              "      <td>BR-242</td>\n",
              "      <td>561.000</td>\n",
              "      <td>562.000</td>\n",
              "      <td>1.000</td>\n",
              "      <td>08/12/2022</td>\n",
              "      <td>-12.2463916</td>\n",
              "      <td>-42.7666333</td>\n",
              "      <td>42.500</td>\n",
              "      <td>12.500</td>\n",
              "      <td>21.500</td>\n",
              "    </tr>\n",
              "    <tr>\n",
              "      <th>9535</th>\n",
              "      <td>BA</td>\n",
              "      <td>BR-242</td>\n",
              "      <td>562.000</td>\n",
              "      <td>563.000</td>\n",
              "      <td>1.000</td>\n",
              "      <td>08/12/2022</td>\n",
              "      <td>-12.2463916</td>\n",
              "      <td>-42.7666333</td>\n",
              "      <td>40.000</td>\n",
              "      <td>5.000</td>\n",
              "      <td>15.500</td>\n",
              "    </tr>\n",
              "    <tr>\n",
              "      <th>9536</th>\n",
              "      <td>BA</td>\n",
              "      <td>BR-242</td>\n",
              "      <td>563.000</td>\n",
              "      <td>564.000</td>\n",
              "      <td>1.000</td>\n",
              "      <td>08/12/2022</td>\n",
              "      <td>-12.2463916</td>\n",
              "      <td>-42.7666333</td>\n",
              "      <td>32.500</td>\n",
              "      <td>5.000</td>\n",
              "      <td>13.250</td>\n",
              "    </tr>\n",
              "    <tr>\n",
              "      <th>9537</th>\n",
              "      <td>BA</td>\n",
              "      <td>BR-242</td>\n",
              "      <td>564.000</td>\n",
              "      <td>565.000</td>\n",
              "      <td>1.000</td>\n",
              "      <td>08/12/2022</td>\n",
              "      <td>-12.2463916</td>\n",
              "      <td>-42.7666333</td>\n",
              "      <td>40.000</td>\n",
              "      <td>100.000</td>\n",
              "      <td>82.000</td>\n",
              "    </tr>\n",
              "    <tr>\n",
              "      <th>9538</th>\n",
              "      <td>BA</td>\n",
              "      <td>BR-242</td>\n",
              "      <td>565.000</td>\n",
              "      <td>566.000</td>\n",
              "      <td>1.000</td>\n",
              "      <td>08/12/2022</td>\n",
              "      <td>-12.2463916</td>\n",
              "      <td>-42.7666333</td>\n",
              "      <td>40.000</td>\n",
              "      <td>35.000</td>\n",
              "      <td>36.500</td>\n",
              "    </tr>\n",
              "    <tr>\n",
              "      <th>9539</th>\n",
              "      <td>BA</td>\n",
              "      <td>BR-242</td>\n",
              "      <td>566.000</td>\n",
              "      <td>567.000</td>\n",
              "      <td>1.000</td>\n",
              "      <td>08/12/2022</td>\n",
              "      <td>-12.2463916</td>\n",
              "      <td>-42.7666333</td>\n",
              "      <td>50.000</td>\n",
              "      <td>20.000</td>\n",
              "      <td>29.000</td>\n",
              "    </tr>\n",
              "    <tr>\n",
              "      <th>9540</th>\n",
              "      <td>BA</td>\n",
              "      <td>BR-242</td>\n",
              "      <td>567.000</td>\n",
              "      <td>568.000</td>\n",
              "      <td>1.000</td>\n",
              "      <td>08/12/2022</td>\n",
              "      <td>-12.2463916</td>\n",
              "      <td>-42.7666333</td>\n",
              "      <td>40.000</td>\n",
              "      <td>12.500</td>\n",
              "      <td>20.750</td>\n",
              "    </tr>\n",
              "    <tr>\n",
              "      <th>9541</th>\n",
              "      <td>BA</td>\n",
              "      <td>BR-242</td>\n",
              "      <td>568.000</td>\n",
              "      <td>569.000</td>\n",
              "      <td>1.000</td>\n",
              "      <td>08/12/2022</td>\n",
              "      <td>-12.2463916</td>\n",
              "      <td>-42.7666333</td>\n",
              "      <td>50.000</td>\n",
              "      <td>50.000</td>\n",
              "      <td>50.000</td>\n",
              "    </tr>\n",
              "  </tbody>\n",
              "</table>\n",
              "</div>\n",
              "      <button class=\"colab-df-convert\" onclick=\"convertToInteractive('df-2fc44a7e-338e-4018-a1db-d774fb840665')\"\n",
              "              title=\"Convert this dataframe to an interactive table.\"\n",
              "              style=\"display:none;\">\n",
              "        \n",
              "  <svg xmlns=\"http://www.w3.org/2000/svg\" height=\"24px\"viewBox=\"0 0 24 24\"\n",
              "       width=\"24px\">\n",
              "    <path d=\"M0 0h24v24H0V0z\" fill=\"none\"/>\n",
              "    <path d=\"M18.56 5.44l.94 2.06.94-2.06 2.06-.94-2.06-.94-.94-2.06-.94 2.06-2.06.94zm-11 1L8.5 8.5l.94-2.06 2.06-.94-2.06-.94L8.5 2.5l-.94 2.06-2.06.94zm10 10l.94 2.06.94-2.06 2.06-.94-2.06-.94-.94-2.06-.94 2.06-2.06.94z\"/><path d=\"M17.41 7.96l-1.37-1.37c-.4-.4-.92-.59-1.43-.59-.52 0-1.04.2-1.43.59L10.3 9.45l-7.72 7.72c-.78.78-.78 2.05 0 2.83L4 21.41c.39.39.9.59 1.41.59.51 0 1.02-.2 1.41-.59l7.78-7.78 2.81-2.81c.8-.78.8-2.07 0-2.86zM5.41 20L4 18.59l7.72-7.72 1.47 1.35L5.41 20z\"/>\n",
              "  </svg>\n",
              "      </button>\n",
              "      \n",
              "  <style>\n",
              "    .colab-df-container {\n",
              "      display:flex;\n",
              "      flex-wrap:wrap;\n",
              "      gap: 12px;\n",
              "    }\n",
              "\n",
              "    .colab-df-convert {\n",
              "      background-color: #E8F0FE;\n",
              "      border: none;\n",
              "      border-radius: 50%;\n",
              "      cursor: pointer;\n",
              "      display: none;\n",
              "      fill: #1967D2;\n",
              "      height: 32px;\n",
              "      padding: 0 0 0 0;\n",
              "      width: 32px;\n",
              "    }\n",
              "\n",
              "    .colab-df-convert:hover {\n",
              "      background-color: #E2EBFA;\n",
              "      box-shadow: 0px 1px 2px rgba(60, 64, 67, 0.3), 0px 1px 3px 1px rgba(60, 64, 67, 0.15);\n",
              "      fill: #174EA6;\n",
              "    }\n",
              "\n",
              "    [theme=dark] .colab-df-convert {\n",
              "      background-color: #3B4455;\n",
              "      fill: #D2E3FC;\n",
              "    }\n",
              "\n",
              "    [theme=dark] .colab-df-convert:hover {\n",
              "      background-color: #434B5C;\n",
              "      box-shadow: 0px 1px 3px 1px rgba(0, 0, 0, 0.15);\n",
              "      filter: drop-shadow(0px 1px 2px rgba(0, 0, 0, 0.3));\n",
              "      fill: #FFFFFF;\n",
              "    }\n",
              "  </style>\n",
              "\n",
              "      <script>\n",
              "        const buttonEl =\n",
              "          document.querySelector('#df-2fc44a7e-338e-4018-a1db-d774fb840665 button.colab-df-convert');\n",
              "        buttonEl.style.display =\n",
              "          google.colab.kernel.accessAllowed ? 'block' : 'none';\n",
              "\n",
              "        async function convertToInteractive(key) {\n",
              "          const element = document.querySelector('#df-2fc44a7e-338e-4018-a1db-d774fb840665');\n",
              "          const dataTable =\n",
              "            await google.colab.kernel.invokeFunction('convertToInteractive',\n",
              "                                                     [key], {});\n",
              "          if (!dataTable) return;\n",
              "\n",
              "          const docLinkHtml = 'Like what you see? Visit the ' +\n",
              "            '<a target=\"_blank\" href=https://colab.research.google.com/notebooks/data_table.ipynb>data table notebook</a>'\n",
              "            + ' to learn more about interactive tables.';\n",
              "          element.innerHTML = '';\n",
              "          dataTable['output_type'] = 'display_data';\n",
              "          await google.colab.output.renderOutput(dataTable, element);\n",
              "          const docLink = document.createElement('div');\n",
              "          docLink.innerHTML = docLinkHtml;\n",
              "          element.appendChild(docLink);\n",
              "        }\n",
              "      </script>\n",
              "    </div>\n",
              "  </div>\n",
              "  "
            ]
          },
          "metadata": {},
          "execution_count": 95
        }
      ]
    },
    {
      "cell_type": "code",
      "source": [
        "np.corrcoef(entradaM,saidaM)"
      ],
      "metadata": {
        "id": "qs7rGqcYAxeS",
        "colab": {
          "base_uri": "https://localhost:8080/",
          "height": 310
        },
        "outputId": "af341d19-d5df-445a-e267-445519558d73"
      },
      "execution_count": 85,
      "outputs": [
        {
          "output_type": "error",
          "ename": "TypeError",
          "evalue": "ignored",
          "traceback": [
            "\u001b[0;31m---------------------------------------------------------------------------\u001b[0m",
            "\u001b[0;31mTypeError\u001b[0m                                 Traceback (most recent call last)",
            "\u001b[0;32m<ipython-input-85-1c65f200ebd1>\u001b[0m in \u001b[0;36m<cell line: 1>\u001b[0;34m()\u001b[0m\n\u001b[0;32m----> 1\u001b[0;31m \u001b[0mnp\u001b[0m\u001b[0;34m.\u001b[0m\u001b[0mcorrcoef\u001b[0m\u001b[0;34m(\u001b[0m\u001b[0mentradaM\u001b[0m\u001b[0;34m,\u001b[0m\u001b[0msaidaM\u001b[0m\u001b[0;34m)\u001b[0m\u001b[0;34m\u001b[0m\u001b[0;34m\u001b[0m\u001b[0m\n\u001b[0m",
            "\u001b[0;32m/usr/local/lib/python3.10/dist-packages/numpy/core/overrides.py\u001b[0m in \u001b[0;36mcorrcoef\u001b[0;34m(*args, **kwargs)\u001b[0m\n",
            "\u001b[0;32m/usr/local/lib/python3.10/dist-packages/numpy/lib/function_base.py\u001b[0m in \u001b[0;36mcorrcoef\u001b[0;34m(x, y, rowvar, bias, ddof, dtype)\u001b[0m\n\u001b[1;32m   2819\u001b[0m         warnings.warn('bias and ddof have no effect and are deprecated',\n\u001b[1;32m   2820\u001b[0m                       DeprecationWarning, stacklevel=3)\n\u001b[0;32m-> 2821\u001b[0;31m     \u001b[0mc\u001b[0m \u001b[0;34m=\u001b[0m \u001b[0mcov\u001b[0m\u001b[0;34m(\u001b[0m\u001b[0mx\u001b[0m\u001b[0;34m,\u001b[0m \u001b[0my\u001b[0m\u001b[0;34m,\u001b[0m \u001b[0mrowvar\u001b[0m\u001b[0;34m,\u001b[0m \u001b[0mdtype\u001b[0m\u001b[0;34m=\u001b[0m\u001b[0mdtype\u001b[0m\u001b[0;34m)\u001b[0m\u001b[0;34m\u001b[0m\u001b[0;34m\u001b[0m\u001b[0m\n\u001b[0m\u001b[1;32m   2822\u001b[0m     \u001b[0;32mtry\u001b[0m\u001b[0;34m:\u001b[0m\u001b[0;34m\u001b[0m\u001b[0;34m\u001b[0m\u001b[0m\n\u001b[1;32m   2823\u001b[0m         \u001b[0md\u001b[0m \u001b[0;34m=\u001b[0m \u001b[0mdiag\u001b[0m\u001b[0;34m(\u001b[0m\u001b[0mc\u001b[0m\u001b[0;34m)\u001b[0m\u001b[0;34m\u001b[0m\u001b[0;34m\u001b[0m\u001b[0m\n",
            "\u001b[0;32m/usr/local/lib/python3.10/dist-packages/numpy/core/overrides.py\u001b[0m in \u001b[0;36mcov\u001b[0;34m(*args, **kwargs)\u001b[0m\n",
            "\u001b[0;32m/usr/local/lib/python3.10/dist-packages/numpy/lib/function_base.py\u001b[0m in \u001b[0;36mcov\u001b[0;34m(m, y, rowvar, bias, ddof, fweights, aweights, dtype)\u001b[0m\n\u001b[1;32m   2654\u001b[0m             \u001b[0mw\u001b[0m \u001b[0;34m*=\u001b[0m \u001b[0maweights\u001b[0m\u001b[0;34m\u001b[0m\u001b[0;34m\u001b[0m\u001b[0m\n\u001b[1;32m   2655\u001b[0m \u001b[0;34m\u001b[0m\u001b[0m\n\u001b[0;32m-> 2656\u001b[0;31m     \u001b[0mavg\u001b[0m\u001b[0;34m,\u001b[0m \u001b[0mw_sum\u001b[0m \u001b[0;34m=\u001b[0m \u001b[0maverage\u001b[0m\u001b[0;34m(\u001b[0m\u001b[0mX\u001b[0m\u001b[0;34m,\u001b[0m \u001b[0maxis\u001b[0m\u001b[0;34m=\u001b[0m\u001b[0;36m1\u001b[0m\u001b[0;34m,\u001b[0m \u001b[0mweights\u001b[0m\u001b[0;34m=\u001b[0m\u001b[0mw\u001b[0m\u001b[0;34m,\u001b[0m \u001b[0mreturned\u001b[0m\u001b[0;34m=\u001b[0m\u001b[0;32mTrue\u001b[0m\u001b[0;34m)\u001b[0m\u001b[0;34m\u001b[0m\u001b[0;34m\u001b[0m\u001b[0m\n\u001b[0m\u001b[1;32m   2657\u001b[0m     \u001b[0mw_sum\u001b[0m \u001b[0;34m=\u001b[0m \u001b[0mw_sum\u001b[0m\u001b[0;34m[\u001b[0m\u001b[0;36m0\u001b[0m\u001b[0;34m]\u001b[0m\u001b[0;34m\u001b[0m\u001b[0;34m\u001b[0m\u001b[0m\n\u001b[1;32m   2658\u001b[0m \u001b[0;34m\u001b[0m\u001b[0m\n",
            "\u001b[0;32m/usr/local/lib/python3.10/dist-packages/numpy/core/overrides.py\u001b[0m in \u001b[0;36maverage\u001b[0;34m(*args, **kwargs)\u001b[0m\n",
            "\u001b[0;32m/usr/local/lib/python3.10/dist-packages/numpy/lib/function_base.py\u001b[0m in \u001b[0;36maverage\u001b[0;34m(a, axis, weights, returned)\u001b[0m\n\u001b[1;32m    493\u001b[0m \u001b[0;34m\u001b[0m\u001b[0m\n\u001b[1;32m    494\u001b[0m     \u001b[0;32mif\u001b[0m \u001b[0mweights\u001b[0m \u001b[0;32mis\u001b[0m \u001b[0;32mNone\u001b[0m\u001b[0;34m:\u001b[0m\u001b[0;34m\u001b[0m\u001b[0;34m\u001b[0m\u001b[0m\n\u001b[0;32m--> 495\u001b[0;31m         \u001b[0mavg\u001b[0m \u001b[0;34m=\u001b[0m \u001b[0ma\u001b[0m\u001b[0;34m.\u001b[0m\u001b[0mmean\u001b[0m\u001b[0;34m(\u001b[0m\u001b[0maxis\u001b[0m\u001b[0;34m)\u001b[0m\u001b[0;34m\u001b[0m\u001b[0;34m\u001b[0m\u001b[0m\n\u001b[0m\u001b[1;32m    496\u001b[0m         \u001b[0mscl\u001b[0m \u001b[0;34m=\u001b[0m \u001b[0mavg\u001b[0m\u001b[0;34m.\u001b[0m\u001b[0mdtype\u001b[0m\u001b[0;34m.\u001b[0m\u001b[0mtype\u001b[0m\u001b[0;34m(\u001b[0m\u001b[0ma\u001b[0m\u001b[0;34m.\u001b[0m\u001b[0msize\u001b[0m\u001b[0;34m/\u001b[0m\u001b[0mavg\u001b[0m\u001b[0;34m.\u001b[0m\u001b[0msize\u001b[0m\u001b[0;34m)\u001b[0m\u001b[0;34m\u001b[0m\u001b[0;34m\u001b[0m\u001b[0m\n\u001b[1;32m    497\u001b[0m     \u001b[0;32melse\u001b[0m\u001b[0;34m:\u001b[0m\u001b[0;34m\u001b[0m\u001b[0;34m\u001b[0m\u001b[0m\n",
            "\u001b[0;32m/usr/local/lib/python3.10/dist-packages/numpy/core/_methods.py\u001b[0m in \u001b[0;36m_mean\u001b[0;34m(a, axis, dtype, out, keepdims, where)\u001b[0m\n\u001b[1;32m    179\u001b[0m     \u001b[0mret\u001b[0m \u001b[0;34m=\u001b[0m \u001b[0mumr_sum\u001b[0m\u001b[0;34m(\u001b[0m\u001b[0marr\u001b[0m\u001b[0;34m,\u001b[0m \u001b[0maxis\u001b[0m\u001b[0;34m,\u001b[0m \u001b[0mdtype\u001b[0m\u001b[0;34m,\u001b[0m \u001b[0mout\u001b[0m\u001b[0;34m,\u001b[0m \u001b[0mkeepdims\u001b[0m\u001b[0;34m,\u001b[0m \u001b[0mwhere\u001b[0m\u001b[0;34m=\u001b[0m\u001b[0mwhere\u001b[0m\u001b[0;34m)\u001b[0m\u001b[0;34m\u001b[0m\u001b[0;34m\u001b[0m\u001b[0m\n\u001b[1;32m    180\u001b[0m     \u001b[0;32mif\u001b[0m \u001b[0misinstance\u001b[0m\u001b[0;34m(\u001b[0m\u001b[0mret\u001b[0m\u001b[0;34m,\u001b[0m \u001b[0mmu\u001b[0m\u001b[0;34m.\u001b[0m\u001b[0mndarray\u001b[0m\u001b[0;34m)\u001b[0m\u001b[0;34m:\u001b[0m\u001b[0;34m\u001b[0m\u001b[0;34m\u001b[0m\u001b[0m\n\u001b[0;32m--> 181\u001b[0;31m         ret = um.true_divide(\n\u001b[0m\u001b[1;32m    182\u001b[0m                 ret, rcount, out=ret, casting='unsafe', subok=False)\n\u001b[1;32m    183\u001b[0m         \u001b[0;32mif\u001b[0m \u001b[0mis_float16_result\u001b[0m \u001b[0;32mand\u001b[0m \u001b[0mout\u001b[0m \u001b[0;32mis\u001b[0m \u001b[0;32mNone\u001b[0m\u001b[0;34m:\u001b[0m\u001b[0;34m\u001b[0m\u001b[0;34m\u001b[0m\u001b[0m\n",
            "\u001b[0;31mTypeError\u001b[0m: unsupported operand type(s) for /: 'str' and 'int'"
          ]
        }
      ]
    },
    {
      "cell_type": "code",
      "source": [],
      "metadata": {
        "id": "bCH_fZytA4d-"
      },
      "execution_count": null,
      "outputs": []
    }
  ],
  "metadata": {
    "colab": {
      "provenance": [],
      "authorship_tag": "ABX9TyMCQ2Z13Vitkae1FLBt2C7v",
      "include_colab_link": true
    },
    "kernelspec": {
      "display_name": "Python 3",
      "name": "python3"
    },
    "language_info": {
      "name": "python"
    }
  },
  "nbformat": 4,
  "nbformat_minor": 0
}