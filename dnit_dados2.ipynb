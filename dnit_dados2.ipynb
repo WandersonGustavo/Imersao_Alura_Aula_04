{
  "nbformat": 4,
  "nbformat_minor": 0,
  "metadata": {
    "colab": {
      "provenance": [],
      "authorship_tag": "ABX9TyP1IrDvtFGKn3VDD9OGI98x",
      "include_colab_link": true
    },
    "kernelspec": {
      "name": "python3",
      "display_name": "Python 3"
    },
    "language_info": {
      "name": "python"
    }
  },
  "cells": [
    {
      "cell_type": "markdown",
      "metadata": {
        "id": "view-in-github",
        "colab_type": "text"
      },
      "source": [
        "<a href=\"https://colab.research.google.com/github/WandersonGustavo/Imersao_Alura_Aula_04/blob/main/dnit_dados2.ipynb\" target=\"_parent\"><img src=\"https://colab.research.google.com/assets/colab-badge.svg\" alt=\"Open In Colab\"/></a>"
      ]
    },
    {
      "cell_type": "code",
      "source": [
        "#!pip install LabelEncoder"
      ],
      "metadata": {
        "id": "duiYDnPA-CGp"
      },
      "execution_count": null,
      "outputs": []
    },
    {
      "cell_type": "code",
      "execution_count": null,
      "metadata": {
        "id": "heAwMKoTcnJk"
      },
      "outputs": [],
      "source": [
        "import pandas as pd\n",
        "import numpy as np\n",
        "import matplotlib.pyplot as plt\n",
        "import seaborn as sns\n",
        "from sklearn.model_selection import train_test_split\n",
        "from sklearn.linear_model import LinearRegression\n",
        "from sklearn.metrics import mean_squared_log_error\n",
        "from sklearn.metrics import mean_squared_error\n",
        "from sklearn.preprocessing import LabelEncoder"
      ]
    },
    {
      "cell_type": "code",
      "source": [
        "base=pd.read_csv('icm_-01-2023-transparencia.csv',on_bad_lines='skip',sep=\";\")\n"
      ],
      "metadata": {
        "id": "KH3tAYeEc1mK"
      },
      "execution_count": null,
      "outputs": []
    },
    {
      "cell_type": "code",
      "source": [
        "base.columns=['UF','Rodovia','km inicial','km final','Extensão (km)','Data','Latitude','Longitude','Observação','ICMNP']"
      ],
      "metadata": {
        "id": "7AIhvGYteNVQ"
      },
      "execution_count": null,
      "outputs": []
    },
    {
      "cell_type": "code",
      "source": [
        "base2=pd.read_csv('icm_12_2022.csv',on_bad_lines='skip',sep=\";\")\n"
      ],
      "metadata": {
        "id": "eRFd8vv6dARV"
      },
      "execution_count": null,
      "outputs": []
    },
    {
      "cell_type": "code",
      "source": [
        "base2.columns=['UF','Rodovia','km inicial','km final','Extensão (km)','Data','Latitude','Longitude','ICC','ICP','ICM']\n"
      ],
      "metadata": {
        "id": "70maqC8rgurW"
      },
      "execution_count": null,
      "outputs": []
    },
    {
      "cell_type": "code",
      "source": [
        "#AGUPAR E EXIBIR DADOS DA BAHIA\n",
        "dadosBahia22=base2.groupby(['UF'])\n",
        "dadosBahia22\n",
        "dadosBahia22.get_group('BA')"
      ],
      "metadata": {
        "colab": {
          "base_uri": "https://localhost:8080/",
          "height": 424
        },
        "id": "zpDdA9mrfErG",
        "outputId": "86e160ba-00b8-40d5-ce11-7a8a1c5a4aa5"
      },
      "execution_count": null,
      "outputs": [
        {
          "output_type": "execute_result",
          "data": {
            "text/plain": [
              "       UF Rodovia km inicial km final Extensão (km)        Data     Latitude  \\\n",
              "9511   BA  BR-242    538,500  539,000         0,500  08/12/2022   -12,195745   \n",
              "9512   BA  BR-242    539,000  540,000         1,000  08/12/2022  -12,2463916   \n",
              "9513   BA  BR-242    540,000  541,000         1,000  08/12/2022  -12,2463916   \n",
              "9514   BA  BR-242    541,000  542,000         1,000  08/12/2022  -12,2463916   \n",
              "9515   BA  BR-242    542,000  543,000         1,000  08/12/2022  -12,2463916   \n",
              "...    ..     ...        ...      ...           ...         ...          ...   \n",
              "39526  BA  BR-110    400,000  401,000         1,000  19/12/2022  -12,5485947   \n",
              "39527  BA  BR-110    401,000  402,000         1,000  19/12/2022  -12,5548502   \n",
              "39528  BA  BR-110    402,000  403,000         1,000  19/12/2022  -12,5615527   \n",
              "39529  BA  BR-110    403,000  404,000         1,000  19/12/2022  -12,5665576   \n",
              "39530  BA  BR-110    404,000  404,600         0,600  19/12/2022   -12,572787   \n",
              "\n",
              "         Longitude     ICC     ICP     ICM  \n",
              "9511     -43,70278  65,000  20,000  33,500  \n",
              "9512   -42,7666333  40,000   5,000  15,500  \n",
              "9513   -42,7666333  40,000   5,000  15,500  \n",
              "9514   -42,7666333  40,000   7,500  17,250  \n",
              "9515   -42,7666333  40,000  40,000  40,000  \n",
              "...            ...     ...     ...     ...  \n",
              "39526   -38,515748  80,000  62,500  67,750  \n",
              "39527  -38,5212984  90,000  40,000  55,000  \n",
              "39528  -38,5266557  80,000  75,000  76,500  \n",
              "39529  -38,5334718  80,000  62,500  67,750  \n",
              "39530   -38,538162  90,000  75,000  79,500  \n",
              "\n",
              "[4133 rows x 11 columns]"
            ],
            "text/html": [
              "\n",
              "  <div id=\"df-ed4e3cea-6fec-47a1-af68-8d897991a561\">\n",
              "    <div class=\"colab-df-container\">\n",
              "      <div>\n",
              "<style scoped>\n",
              "    .dataframe tbody tr th:only-of-type {\n",
              "        vertical-align: middle;\n",
              "    }\n",
              "\n",
              "    .dataframe tbody tr th {\n",
              "        vertical-align: top;\n",
              "    }\n",
              "\n",
              "    .dataframe thead th {\n",
              "        text-align: right;\n",
              "    }\n",
              "</style>\n",
              "<table border=\"1\" class=\"dataframe\">\n",
              "  <thead>\n",
              "    <tr style=\"text-align: right;\">\n",
              "      <th></th>\n",
              "      <th>UF</th>\n",
              "      <th>Rodovia</th>\n",
              "      <th>km inicial</th>\n",
              "      <th>km final</th>\n",
              "      <th>Extensão (km)</th>\n",
              "      <th>Data</th>\n",
              "      <th>Latitude</th>\n",
              "      <th>Longitude</th>\n",
              "      <th>ICC</th>\n",
              "      <th>ICP</th>\n",
              "      <th>ICM</th>\n",
              "    </tr>\n",
              "  </thead>\n",
              "  <tbody>\n",
              "    <tr>\n",
              "      <th>9511</th>\n",
              "      <td>BA</td>\n",
              "      <td>BR-242</td>\n",
              "      <td>538,500</td>\n",
              "      <td>539,000</td>\n",
              "      <td>0,500</td>\n",
              "      <td>08/12/2022</td>\n",
              "      <td>-12,195745</td>\n",
              "      <td>-43,70278</td>\n",
              "      <td>65,000</td>\n",
              "      <td>20,000</td>\n",
              "      <td>33,500</td>\n",
              "    </tr>\n",
              "    <tr>\n",
              "      <th>9512</th>\n",
              "      <td>BA</td>\n",
              "      <td>BR-242</td>\n",
              "      <td>539,000</td>\n",
              "      <td>540,000</td>\n",
              "      <td>1,000</td>\n",
              "      <td>08/12/2022</td>\n",
              "      <td>-12,2463916</td>\n",
              "      <td>-42,7666333</td>\n",
              "      <td>40,000</td>\n",
              "      <td>5,000</td>\n",
              "      <td>15,500</td>\n",
              "    </tr>\n",
              "    <tr>\n",
              "      <th>9513</th>\n",
              "      <td>BA</td>\n",
              "      <td>BR-242</td>\n",
              "      <td>540,000</td>\n",
              "      <td>541,000</td>\n",
              "      <td>1,000</td>\n",
              "      <td>08/12/2022</td>\n",
              "      <td>-12,2463916</td>\n",
              "      <td>-42,7666333</td>\n",
              "      <td>40,000</td>\n",
              "      <td>5,000</td>\n",
              "      <td>15,500</td>\n",
              "    </tr>\n",
              "    <tr>\n",
              "      <th>9514</th>\n",
              "      <td>BA</td>\n",
              "      <td>BR-242</td>\n",
              "      <td>541,000</td>\n",
              "      <td>542,000</td>\n",
              "      <td>1,000</td>\n",
              "      <td>08/12/2022</td>\n",
              "      <td>-12,2463916</td>\n",
              "      <td>-42,7666333</td>\n",
              "      <td>40,000</td>\n",
              "      <td>7,500</td>\n",
              "      <td>17,250</td>\n",
              "    </tr>\n",
              "    <tr>\n",
              "      <th>9515</th>\n",
              "      <td>BA</td>\n",
              "      <td>BR-242</td>\n",
              "      <td>542,000</td>\n",
              "      <td>543,000</td>\n",
              "      <td>1,000</td>\n",
              "      <td>08/12/2022</td>\n",
              "      <td>-12,2463916</td>\n",
              "      <td>-42,7666333</td>\n",
              "      <td>40,000</td>\n",
              "      <td>40,000</td>\n",
              "      <td>40,000</td>\n",
              "    </tr>\n",
              "    <tr>\n",
              "      <th>...</th>\n",
              "      <td>...</td>\n",
              "      <td>...</td>\n",
              "      <td>...</td>\n",
              "      <td>...</td>\n",
              "      <td>...</td>\n",
              "      <td>...</td>\n",
              "      <td>...</td>\n",
              "      <td>...</td>\n",
              "      <td>...</td>\n",
              "      <td>...</td>\n",
              "      <td>...</td>\n",
              "    </tr>\n",
              "    <tr>\n",
              "      <th>39526</th>\n",
              "      <td>BA</td>\n",
              "      <td>BR-110</td>\n",
              "      <td>400,000</td>\n",
              "      <td>401,000</td>\n",
              "      <td>1,000</td>\n",
              "      <td>19/12/2022</td>\n",
              "      <td>-12,5485947</td>\n",
              "      <td>-38,515748</td>\n",
              "      <td>80,000</td>\n",
              "      <td>62,500</td>\n",
              "      <td>67,750</td>\n",
              "    </tr>\n",
              "    <tr>\n",
              "      <th>39527</th>\n",
              "      <td>BA</td>\n",
              "      <td>BR-110</td>\n",
              "      <td>401,000</td>\n",
              "      <td>402,000</td>\n",
              "      <td>1,000</td>\n",
              "      <td>19/12/2022</td>\n",
              "      <td>-12,5548502</td>\n",
              "      <td>-38,5212984</td>\n",
              "      <td>90,000</td>\n",
              "      <td>40,000</td>\n",
              "      <td>55,000</td>\n",
              "    </tr>\n",
              "    <tr>\n",
              "      <th>39528</th>\n",
              "      <td>BA</td>\n",
              "      <td>BR-110</td>\n",
              "      <td>402,000</td>\n",
              "      <td>403,000</td>\n",
              "      <td>1,000</td>\n",
              "      <td>19/12/2022</td>\n",
              "      <td>-12,5615527</td>\n",
              "      <td>-38,5266557</td>\n",
              "      <td>80,000</td>\n",
              "      <td>75,000</td>\n",
              "      <td>76,500</td>\n",
              "    </tr>\n",
              "    <tr>\n",
              "      <th>39529</th>\n",
              "      <td>BA</td>\n",
              "      <td>BR-110</td>\n",
              "      <td>403,000</td>\n",
              "      <td>404,000</td>\n",
              "      <td>1,000</td>\n",
              "      <td>19/12/2022</td>\n",
              "      <td>-12,5665576</td>\n",
              "      <td>-38,5334718</td>\n",
              "      <td>80,000</td>\n",
              "      <td>62,500</td>\n",
              "      <td>67,750</td>\n",
              "    </tr>\n",
              "    <tr>\n",
              "      <th>39530</th>\n",
              "      <td>BA</td>\n",
              "      <td>BR-110</td>\n",
              "      <td>404,000</td>\n",
              "      <td>404,600</td>\n",
              "      <td>0,600</td>\n",
              "      <td>19/12/2022</td>\n",
              "      <td>-12,572787</td>\n",
              "      <td>-38,538162</td>\n",
              "      <td>90,000</td>\n",
              "      <td>75,000</td>\n",
              "      <td>79,500</td>\n",
              "    </tr>\n",
              "  </tbody>\n",
              "</table>\n",
              "<p>4133 rows × 11 columns</p>\n",
              "</div>\n",
              "      <button class=\"colab-df-convert\" onclick=\"convertToInteractive('df-ed4e3cea-6fec-47a1-af68-8d897991a561')\"\n",
              "              title=\"Convert this dataframe to an interactive table.\"\n",
              "              style=\"display:none;\">\n",
              "        \n",
              "  <svg xmlns=\"http://www.w3.org/2000/svg\" height=\"24px\"viewBox=\"0 0 24 24\"\n",
              "       width=\"24px\">\n",
              "    <path d=\"M0 0h24v24H0V0z\" fill=\"none\"/>\n",
              "    <path d=\"M18.56 5.44l.94 2.06.94-2.06 2.06-.94-2.06-.94-.94-2.06-.94 2.06-2.06.94zm-11 1L8.5 8.5l.94-2.06 2.06-.94-2.06-.94L8.5 2.5l-.94 2.06-2.06.94zm10 10l.94 2.06.94-2.06 2.06-.94-2.06-.94-.94-2.06-.94 2.06-2.06.94z\"/><path d=\"M17.41 7.96l-1.37-1.37c-.4-.4-.92-.59-1.43-.59-.52 0-1.04.2-1.43.59L10.3 9.45l-7.72 7.72c-.78.78-.78 2.05 0 2.83L4 21.41c.39.39.9.59 1.41.59.51 0 1.02-.2 1.41-.59l7.78-7.78 2.81-2.81c.8-.78.8-2.07 0-2.86zM5.41 20L4 18.59l7.72-7.72 1.47 1.35L5.41 20z\"/>\n",
              "  </svg>\n",
              "      </button>\n",
              "      \n",
              "  <style>\n",
              "    .colab-df-container {\n",
              "      display:flex;\n",
              "      flex-wrap:wrap;\n",
              "      gap: 12px;\n",
              "    }\n",
              "\n",
              "    .colab-df-convert {\n",
              "      background-color: #E8F0FE;\n",
              "      border: none;\n",
              "      border-radius: 50%;\n",
              "      cursor: pointer;\n",
              "      display: none;\n",
              "      fill: #1967D2;\n",
              "      height: 32px;\n",
              "      padding: 0 0 0 0;\n",
              "      width: 32px;\n",
              "    }\n",
              "\n",
              "    .colab-df-convert:hover {\n",
              "      background-color: #E2EBFA;\n",
              "      box-shadow: 0px 1px 2px rgba(60, 64, 67, 0.3), 0px 1px 3px 1px rgba(60, 64, 67, 0.15);\n",
              "      fill: #174EA6;\n",
              "    }\n",
              "\n",
              "    [theme=dark] .colab-df-convert {\n",
              "      background-color: #3B4455;\n",
              "      fill: #D2E3FC;\n",
              "    }\n",
              "\n",
              "    [theme=dark] .colab-df-convert:hover {\n",
              "      background-color: #434B5C;\n",
              "      box-shadow: 0px 1px 3px 1px rgba(0, 0, 0, 0.15);\n",
              "      filter: drop-shadow(0px 1px 2px rgba(0, 0, 0, 0.3));\n",
              "      fill: #FFFFFF;\n",
              "    }\n",
              "  </style>\n",
              "\n",
              "      <script>\n",
              "        const buttonEl =\n",
              "          document.querySelector('#df-ed4e3cea-6fec-47a1-af68-8d897991a561 button.colab-df-convert');\n",
              "        buttonEl.style.display =\n",
              "          google.colab.kernel.accessAllowed ? 'block' : 'none';\n",
              "\n",
              "        async function convertToInteractive(key) {\n",
              "          const element = document.querySelector('#df-ed4e3cea-6fec-47a1-af68-8d897991a561');\n",
              "          const dataTable =\n",
              "            await google.colab.kernel.invokeFunction('convertToInteractive',\n",
              "                                                     [key], {});\n",
              "          if (!dataTable) return;\n",
              "\n",
              "          const docLinkHtml = 'Like what you see? Visit the ' +\n",
              "            '<a target=\"_blank\" href=https://colab.research.google.com/notebooks/data_table.ipynb>data table notebook</a>'\n",
              "            + ' to learn more about interactive tables.';\n",
              "          element.innerHTML = '';\n",
              "          dataTable['output_type'] = 'display_data';\n",
              "          await google.colab.output.renderOutput(dataTable, element);\n",
              "          const docLink = document.createElement('div');\n",
              "          docLink.innerHTML = docLinkHtml;\n",
              "          element.appendChild(docLink);\n",
              "        }\n",
              "      </script>\n",
              "    </div>\n",
              "  </div>\n",
              "  "
            ]
          },
          "metadata": {},
          "execution_count": 7
        }
      ]
    },
    {
      "cell_type": "code",
      "source": [
        "base.drop"
      ],
      "metadata": {
        "id": "XBbYvpMkOaIH"
      },
      "execution_count": null,
      "outputs": []
    },
    {
      "cell_type": "code",
      "source": [
        "#localizacao por coord e icm como desfecho\n",
        " #mes&ano combinados"
      ],
      "metadata": {
        "id": "U3m_Xa8xbARu"
      },
      "execution_count": null,
      "outputs": []
    },
    {
      "cell_type": "code",
      "source": [],
      "metadata": {
        "id": "cWdeiPFXsxc_"
      },
      "execution_count": null,
      "outputs": []
    },
    {
      "cell_type": "code",
      "source": [
        "dadosBahia23=base.groupby(['UF'])\n",
        "dadosBahia23=dadosBahia23.get_group('BA')\n",
        "dadosBahia23.describe()"
      ],
      "metadata": {
        "id": "wmvpXJI3k2KO",
        "colab": {
          "base_uri": "https://localhost:8080/",
          "height": 174
        },
        "outputId": "992df017-53cc-4545-d0fd-36f01a3bb218"
      },
      "execution_count": null,
      "outputs": [
        {
          "output_type": "execute_result",
          "data": {
            "text/plain": [
              "        UF Rodovia km inicial km final Extensão (km)        Data     Latitude  \\\n",
              "count   31      31         31       31            31          31           31   \n",
              "unique   1       1         31       31             6           1            8   \n",
              "top     BA  BR-135    205,800  206,000         1,000  24/01/2023  -12,3693466   \n",
              "freq    31      31          1        1            24          31           22   \n",
              "\n",
              "        Longitude Observação   ICMNP  \n",
              "count          31          0      31  \n",
              "unique          8          0      19  \n",
              "top     -44,97331        NaN  76,250  \n",
              "freq           22        NaN       6  "
            ],
            "text/html": [
              "\n",
              "  <div id=\"df-457d4df7-8744-447a-ae30-624c88f84e82\">\n",
              "    <div class=\"colab-df-container\">\n",
              "      <div>\n",
              "<style scoped>\n",
              "    .dataframe tbody tr th:only-of-type {\n",
              "        vertical-align: middle;\n",
              "    }\n",
              "\n",
              "    .dataframe tbody tr th {\n",
              "        vertical-align: top;\n",
              "    }\n",
              "\n",
              "    .dataframe thead th {\n",
              "        text-align: right;\n",
              "    }\n",
              "</style>\n",
              "<table border=\"1\" class=\"dataframe\">\n",
              "  <thead>\n",
              "    <tr style=\"text-align: right;\">\n",
              "      <th></th>\n",
              "      <th>UF</th>\n",
              "      <th>Rodovia</th>\n",
              "      <th>km inicial</th>\n",
              "      <th>km final</th>\n",
              "      <th>Extensão (km)</th>\n",
              "      <th>Data</th>\n",
              "      <th>Latitude</th>\n",
              "      <th>Longitude</th>\n",
              "      <th>Observação</th>\n",
              "      <th>ICMNP</th>\n",
              "    </tr>\n",
              "  </thead>\n",
              "  <tbody>\n",
              "    <tr>\n",
              "      <th>count</th>\n",
              "      <td>31</td>\n",
              "      <td>31</td>\n",
              "      <td>31</td>\n",
              "      <td>31</td>\n",
              "      <td>31</td>\n",
              "      <td>31</td>\n",
              "      <td>31</td>\n",
              "      <td>31</td>\n",
              "      <td>0</td>\n",
              "      <td>31</td>\n",
              "    </tr>\n",
              "    <tr>\n",
              "      <th>unique</th>\n",
              "      <td>1</td>\n",
              "      <td>1</td>\n",
              "      <td>31</td>\n",
              "      <td>31</td>\n",
              "      <td>6</td>\n",
              "      <td>1</td>\n",
              "      <td>8</td>\n",
              "      <td>8</td>\n",
              "      <td>0</td>\n",
              "      <td>19</td>\n",
              "    </tr>\n",
              "    <tr>\n",
              "      <th>top</th>\n",
              "      <td>BA</td>\n",
              "      <td>BR-135</td>\n",
              "      <td>205,800</td>\n",
              "      <td>206,000</td>\n",
              "      <td>1,000</td>\n",
              "      <td>24/01/2023</td>\n",
              "      <td>-12,3693466</td>\n",
              "      <td>-44,97331</td>\n",
              "      <td>NaN</td>\n",
              "      <td>76,250</td>\n",
              "    </tr>\n",
              "    <tr>\n",
              "      <th>freq</th>\n",
              "      <td>31</td>\n",
              "      <td>31</td>\n",
              "      <td>1</td>\n",
              "      <td>1</td>\n",
              "      <td>24</td>\n",
              "      <td>31</td>\n",
              "      <td>22</td>\n",
              "      <td>22</td>\n",
              "      <td>NaN</td>\n",
              "      <td>6</td>\n",
              "    </tr>\n",
              "  </tbody>\n",
              "</table>\n",
              "</div>\n",
              "      <button class=\"colab-df-convert\" onclick=\"convertToInteractive('df-457d4df7-8744-447a-ae30-624c88f84e82')\"\n",
              "              title=\"Convert this dataframe to an interactive table.\"\n",
              "              style=\"display:none;\">\n",
              "        \n",
              "  <svg xmlns=\"http://www.w3.org/2000/svg\" height=\"24px\"viewBox=\"0 0 24 24\"\n",
              "       width=\"24px\">\n",
              "    <path d=\"M0 0h24v24H0V0z\" fill=\"none\"/>\n",
              "    <path d=\"M18.56 5.44l.94 2.06.94-2.06 2.06-.94-2.06-.94-.94-2.06-.94 2.06-2.06.94zm-11 1L8.5 8.5l.94-2.06 2.06-.94-2.06-.94L8.5 2.5l-.94 2.06-2.06.94zm10 10l.94 2.06.94-2.06 2.06-.94-2.06-.94-.94-2.06-.94 2.06-2.06.94z\"/><path d=\"M17.41 7.96l-1.37-1.37c-.4-.4-.92-.59-1.43-.59-.52 0-1.04.2-1.43.59L10.3 9.45l-7.72 7.72c-.78.78-.78 2.05 0 2.83L4 21.41c.39.39.9.59 1.41.59.51 0 1.02-.2 1.41-.59l7.78-7.78 2.81-2.81c.8-.78.8-2.07 0-2.86zM5.41 20L4 18.59l7.72-7.72 1.47 1.35L5.41 20z\"/>\n",
              "  </svg>\n",
              "      </button>\n",
              "      \n",
              "  <style>\n",
              "    .colab-df-container {\n",
              "      display:flex;\n",
              "      flex-wrap:wrap;\n",
              "      gap: 12px;\n",
              "    }\n",
              "\n",
              "    .colab-df-convert {\n",
              "      background-color: #E8F0FE;\n",
              "      border: none;\n",
              "      border-radius: 50%;\n",
              "      cursor: pointer;\n",
              "      display: none;\n",
              "      fill: #1967D2;\n",
              "      height: 32px;\n",
              "      padding: 0 0 0 0;\n",
              "      width: 32px;\n",
              "    }\n",
              "\n",
              "    .colab-df-convert:hover {\n",
              "      background-color: #E2EBFA;\n",
              "      box-shadow: 0px 1px 2px rgba(60, 64, 67, 0.3), 0px 1px 3px 1px rgba(60, 64, 67, 0.15);\n",
              "      fill: #174EA6;\n",
              "    }\n",
              "\n",
              "    [theme=dark] .colab-df-convert {\n",
              "      background-color: #3B4455;\n",
              "      fill: #D2E3FC;\n",
              "    }\n",
              "\n",
              "    [theme=dark] .colab-df-convert:hover {\n",
              "      background-color: #434B5C;\n",
              "      box-shadow: 0px 1px 3px 1px rgba(0, 0, 0, 0.15);\n",
              "      filter: drop-shadow(0px 1px 2px rgba(0, 0, 0, 0.3));\n",
              "      fill: #FFFFFF;\n",
              "    }\n",
              "  </style>\n",
              "\n",
              "      <script>\n",
              "        const buttonEl =\n",
              "          document.querySelector('#df-457d4df7-8744-447a-ae30-624c88f84e82 button.colab-df-convert');\n",
              "        buttonEl.style.display =\n",
              "          google.colab.kernel.accessAllowed ? 'block' : 'none';\n",
              "\n",
              "        async function convertToInteractive(key) {\n",
              "          const element = document.querySelector('#df-457d4df7-8744-447a-ae30-624c88f84e82');\n",
              "          const dataTable =\n",
              "            await google.colab.kernel.invokeFunction('convertToInteractive',\n",
              "                                                     [key], {});\n",
              "          if (!dataTable) return;\n",
              "\n",
              "          const docLinkHtml = 'Like what you see? Visit the ' +\n",
              "            '<a target=\"_blank\" href=https://colab.research.google.com/notebooks/data_table.ipynb>data table notebook</a>'\n",
              "            + ' to learn more about interactive tables.';\n",
              "          element.innerHTML = '';\n",
              "          dataTable['output_type'] = 'display_data';\n",
              "          await google.colab.output.renderOutput(dataTable, element);\n",
              "          const docLink = document.createElement('div');\n",
              "          docLink.innerHTML = docLinkHtml;\n",
              "          element.appendChild(docLink);\n",
              "        }\n",
              "      </script>\n",
              "    </div>\n",
              "  </div>\n",
              "  "
            ]
          },
          "metadata": {},
          "execution_count": 8
        }
      ]
    },
    {
      "cell_type": "code",
      "source": [
        "#latitude dos trechos baianos\n",
        "latitude=base.groupby(['Latitude'])\n",
        "lat23BA=dadosBahia23\n",
        "lat23BA.Latitude.head(31)\n",
        "lat23BA.describe\n"
      ],
      "metadata": {
        "id": "hvph2hSAo1xZ",
        "colab": {
          "base_uri": "https://localhost:8080/"
        },
        "outputId": "12ee93a5-c096-48e6-da57-5fa17c8a1676"
      },
      "execution_count": null,
      "outputs": [
        {
          "output_type": "execute_result",
          "data": {
            "text/plain": [
              "<bound method NDFrame.describe of       UF Rodovia km inicial km final Extensão (km)        Data     Latitude  \\\n",
              "1383  BA  BR-135    205,800  206,000         0,200  24/01/2023  -12,3564116   \n",
              "1384  BA  BR-135    206,000  207,000         1,000  24/01/2023  -12,3693466   \n",
              "1385  BA  BR-135    207,000  208,000         1,000  24/01/2023  -12,3693466   \n",
              "1386  BA  BR-135    208,000  209,000         1,000  24/01/2023  -12,3693466   \n",
              "1387  BA  BR-135    209,000  210,000         1,000  24/01/2023  -12,3693466   \n",
              "1388  BA  BR-135    210,000  211,000         1,000  24/01/2023  -12,3693466   \n",
              "1389  BA  BR-135    211,000  212,000         1,000  24/01/2023  -12,3693466   \n",
              "1390  BA  BR-135    212,000  213,000         1,000  24/01/2023  -12,3693466   \n",
              "1391  BA  BR-135    213,000  214,000         1,000  24/01/2023  -12,3693466   \n",
              "1392  BA  BR-135    214,000  215,000         1,000  24/01/2023  -12,3693466   \n",
              "1393  BA  BR-135    215,000  216,000         1,000  24/01/2023  -12,3693466   \n",
              "1394  BA  BR-135    216,000  217,000         1,000  24/01/2023  -12,3693466   \n",
              "1395  BA  BR-135    217,000  218,000         1,000  24/01/2023  -12,3693466   \n",
              "1396  BA  BR-135    218,000  219,000         1,000  24/01/2023  -12,3693466   \n",
              "1397  BA  BR-135    219,000  220,000         1,000  24/01/2023  -12,3693466   \n",
              "1398  BA  BR-135    220,000  221,000         1,000  24/01/2023  -12,3693466   \n",
              "1399  BA  BR-135    221,000  222,000         1,000  24/01/2023  -12,3693466   \n",
              "1400  BA  BR-135    222,000  223,000         1,000  24/01/2023  -12,3693466   \n",
              "1401  BA  BR-135    223,000  224,000         1,000  24/01/2023  -12,3693466   \n",
              "1402  BA  BR-135    224,000  225,000         1,000  24/01/2023  -12,3693466   \n",
              "1403  BA  BR-135    225,000  226,000         1,000  24/01/2023  -12,3693466   \n",
              "1404  BA  BR-135    226,000  227,000         1,000  24/01/2023  -12,3693466   \n",
              "1405  BA  BR-135    227,000  228,000         1,000  24/01/2023  -12,3693466   \n",
              "1406  BA  BR-135    306,500  307,000         0,500  24/01/2023  -13,0440416   \n",
              "1407  BA  BR-135    307,000  307,100         0,100  24/01/2023  -13,0459504   \n",
              "1408  BA  BR-135    319,800  320,000         0,200  24/01/2023  -13,1542816   \n",
              "1409  BA  BR-135    320,000  321,000         1,000  24/01/2023  -13,1573666   \n",
              "1410  BA  BR-135    321,000  321,200         0,200  24/01/2023  -13,1573666   \n",
              "1411  BA  BR-135    323,400  324,000         0,600  24/01/2023   -13,165705   \n",
              "1412  BA  BR-135    324,000  325,000         1,000  24/01/2023  -13,1830766   \n",
              "1413  BA  BR-135    325,000  325,300         0,300  24/01/2023  -13,1830766   \n",
              "\n",
              "        Longitude Observação   ICMNP  \n",
              "1383  -44,9800283        NaN  30,000  \n",
              "1384    -44,97331        NaN  35,000  \n",
              "1385    -44,97331        NaN  53,750  \n",
              "1386    -44,97331        NaN  47,500  \n",
              "1387    -44,97331        NaN  50,000  \n",
              "1388    -44,97331        NaN  53,750  \n",
              "1389    -44,97331        NaN  65,000  \n",
              "1390    -44,97331        NaN  76,250  \n",
              "1391    -44,97331        NaN  61,250  \n",
              "1392    -44,97331        NaN  76,250  \n",
              "1393    -44,97331        NaN  68,750  \n",
              "1394    -44,97331        NaN  71,250  \n",
              "1395    -44,97331        NaN  76,250  \n",
              "1396    -44,97331        NaN  68,750  \n",
              "1397    -44,97331        NaN  83,750  \n",
              "1398    -44,97331        NaN  72,500  \n",
              "1399    -44,97331        NaN  76,250  \n",
              "1400    -44,97331        NaN  73,750  \n",
              "1401    -44,97331        NaN  83,750  \n",
              "1402    -44,97331        NaN  72,500  \n",
              "1403    -44,97331        NaN  76,250  \n",
              "1404    -44,97331        NaN  66,250  \n",
              "1405    -44,97331        NaN  76,250  \n",
              "1406   -44,621948        NaN   0,000  \n",
              "1407  -44,6228495        NaN   0,000  \n",
              "1408  -44,6166333        NaN   3,750  \n",
              "1409  -44,6161683        NaN   3,750  \n",
              "1410  -44,6161683        NaN   3,750  \n",
              "1411  -44,6122983        NaN  52,500  \n",
              "1412   -44,617495        NaN  20,000  \n",
              "1413   -44,617495        NaN  17,500  >"
            ]
          },
          "metadata": {},
          "execution_count": 9
        }
      ]
    },
    {
      "cell_type": "code",
      "source": [
        "#longitude dos trechos baianos\n",
        "latitude22=base2.groupby(['Latitude'])\n",
        "lat22BA=dadosBahia22.get_group('BA')\n",
        "lat22BA.Latitude.head(31)\n",
        "lat22BA.describe"
      ],
      "metadata": {
        "id": "CVnaEUYrk08L",
        "colab": {
          "base_uri": "https://localhost:8080/"
        },
        "outputId": "1e24d591-b1ae-4285-d093-fda8bbba9ac6"
      },
      "execution_count": null,
      "outputs": [
        {
          "output_type": "execute_result",
          "data": {
            "text/plain": [
              "<bound method NDFrame.describe of        UF Rodovia km inicial km final Extensão (km)        Data     Latitude  \\\n",
              "9511   BA  BR-242    538,500  539,000         0,500  08/12/2022   -12,195745   \n",
              "9512   BA  BR-242    539,000  540,000         1,000  08/12/2022  -12,2463916   \n",
              "9513   BA  BR-242    540,000  541,000         1,000  08/12/2022  -12,2463916   \n",
              "9514   BA  BR-242    541,000  542,000         1,000  08/12/2022  -12,2463916   \n",
              "9515   BA  BR-242    542,000  543,000         1,000  08/12/2022  -12,2463916   \n",
              "...    ..     ...        ...      ...           ...         ...          ...   \n",
              "39526  BA  BR-110    400,000  401,000         1,000  19/12/2022  -12,5485947   \n",
              "39527  BA  BR-110    401,000  402,000         1,000  19/12/2022  -12,5548502   \n",
              "39528  BA  BR-110    402,000  403,000         1,000  19/12/2022  -12,5615527   \n",
              "39529  BA  BR-110    403,000  404,000         1,000  19/12/2022  -12,5665576   \n",
              "39530  BA  BR-110    404,000  404,600         0,600  19/12/2022   -12,572787   \n",
              "\n",
              "         Longitude     ICC     ICP     ICM  \n",
              "9511     -43,70278  65,000  20,000  33,500  \n",
              "9512   -42,7666333  40,000   5,000  15,500  \n",
              "9513   -42,7666333  40,000   5,000  15,500  \n",
              "9514   -42,7666333  40,000   7,500  17,250  \n",
              "9515   -42,7666333  40,000  40,000  40,000  \n",
              "...            ...     ...     ...     ...  \n",
              "39526   -38,515748  80,000  62,500  67,750  \n",
              "39527  -38,5212984  90,000  40,000  55,000  \n",
              "39528  -38,5266557  80,000  75,000  76,500  \n",
              "39529  -38,5334718  80,000  62,500  67,750  \n",
              "39530   -38,538162  90,000  75,000  79,500  \n",
              "\n",
              "[4133 rows x 11 columns]>"
            ]
          },
          "metadata": {},
          "execution_count": 14
        }
      ]
    },
    {
      "cell_type": "code",
      "source": [],
      "metadata": {
        "id": "EI1UVRVFvKJV"
      },
      "execution_count": null,
      "outputs": []
    },
    {
      "cell_type": "code",
      "source": [
        "#indicebase2=base2.groupby(['ICM'])\n",
        "indice22=base2.groupby(['ICM'])\n",
        "dadosBahia22=lat23BA\n",
        "valor_x=dadosBahia22"
      ],
      "metadata": {
        "id": "3sqLcokQp_TE"
      },
      "execution_count": null,
      "outputs": []
    },
    {
      "cell_type": "code",
      "source": [
        "indice23=base.groupby(['ICMNP'])\n",
        "dadosBahia23=lat23BA\n",
        "valor_y=dadosBahia23"
      ],
      "metadata": {
        "id": "GmR92wjuubyN"
      },
      "execution_count": null,
      "outputs": []
    },
    {
      "cell_type": "code",
      "source": [
        "valor_x=labelUF\n",
        "valor_y=labelUF2\n",
        "valor_y=valor_y.reshape(-1,1)\n",
        "valor_x=valor_x.reshape(-1,1)"
      ],
      "metadata": {
        "id": "UtaSW3jsut2M"
      },
      "execution_count": null,
      "outputs": []
    },
    {
      "cell_type": "code",
      "source": [
        "valor_xx=base2.iloc[:, 10].values\n",
        "valor_yy=base2.iloc[:, 10].values"
      ],
      "metadata": {
        "id": "_58f3NZG0DGd"
      },
      "execution_count": null,
      "outputs": []
    },
    {
      "cell_type": "code",
      "source": [
        "modelo=LinearRegression()\n",
        "#modelo.fit(valor_xx,valor_yy)"
      ],
      "metadata": {
        "id": "pUHhGCx-zW0d"
      },
      "execution_count": null,
      "outputs": []
    },
    {
      "cell_type": "code",
      "source": [
        "error = latitude10valores22 - latitude10valores23\n",
        "squared_error = error**2"
      ],
      "metadata": {
        "id": "uFkb1l8jil-2"
      },
      "execution_count": null,
      "outputs": []
    },
    {
      "cell_type": "code",
      "source": [
        "rmse = np.sqrt(mean_squared_error(,))\n",
        "print(\"RMSE:\", rmse)"
      ],
      "metadata": {
        "id": "QqnRIvQEiFtA"
      },
      "execution_count": null,
      "outputs": []
    },
    {
      "cell_type": "code",
      "source": [
        "rmsle = np.sqrt(mean_squared_log_error(lat22BA,lat23BA))\n",
        "print(\"RMSLE:\", rmsle)"
      ],
      "metadata": {
        "id": "TqrV7dYP_0nL"
      },
      "execution_count": null,
      "outputs": []
    },
    {
      "cell_type": "code",
      "source": [
        "indice22=base2.groupby(['ICM'])\n",
        "dadosBahia22=lat23BA\n",
        "valor_x=dadosBahia22"
      ],
      "metadata": {
        "id": "ctFvD_yBeK8t"
      },
      "execution_count": null,
      "outputs": []
    },
    {
      "cell_type": "code",
      "source": [],
      "metadata": {
        "id": "MB9N7r_Yqkz2"
      },
      "execution_count": null,
      "outputs": []
    }
  ]
}