{
  "nbformat": 4,
  "nbformat_minor": 0,
  "metadata": {
    "colab": {
      "provenance": [],
      "authorship_tag": "ABX9TyNqO6SlHlcWD2HuKuhyjZ3V",
      "include_colab_link": true
    },
    "kernelspec": {
      "name": "python3",
      "display_name": "Python 3"
    },
    "language_info": {
      "name": "python"
    }
  },
  "cells": [
    {
      "cell_type": "markdown",
      "metadata": {
        "id": "view-in-github",
        "colab_type": "text"
      },
      "source": [
        "<a href=\"https://colab.research.google.com/github/WandersonGustavo/Imersao_Alura_Aula_04/blob/main/dnit_dados2.ipynb\" target=\"_parent\"><img src=\"https://colab.research.google.com/assets/colab-badge.svg\" alt=\"Open In Colab\"/></a>"
      ]
    },
    {
      "cell_type": "code",
      "execution_count": null,
      "metadata": {
        "id": "heAwMKoTcnJk"
      },
      "outputs": [],
      "source": [
        "import pandas as pd\n",
        "import numpy as np\n",
        "import matplotlib.pyplot as plt\n",
        "import seaborn as sns\n",
        "from sklearn.model_selection import train_test_split\n",
        "from sklearn.linear_model import LinearRegression\n",
        "from sklearn.metrics import mean_squared_log_error\n",
        "from sklearn.metrics import mean_squared_error\n",
        "from sklearn.preprocessing import LabelEncoder"
      ]
    },
    {
      "cell_type": "code",
      "source": [
        "base=pd.read_csv('icm_-01-2023-transparencia.csv',on_bad_lines='skip',sep=\";\")\n"
      ],
      "metadata": {
        "id": "KH3tAYeEc1mK"
      },
      "execution_count": null,
      "outputs": []
    },
    {
      "cell_type": "code",
      "source": [
        "base.columns=['UF','Rodovia','km inicial','km final','Extensão (km)','Data','Latitude','Longitude','Observação','ICMNP']"
      ],
      "metadata": {
        "id": "7AIhvGYteNVQ"
      },
      "execution_count": null,
      "outputs": []
    },
    {
      "cell_type": "code",
      "source": [
        "base2=pd.read_csv('icm_12_2022.csv',on_bad_lines='skip',sep=\";\")\n"
      ],
      "metadata": {
        "id": "eRFd8vv6dARV"
      },
      "execution_count": null,
      "outputs": []
    },
    {
      "cell_type": "code",
      "source": [
        "base2.columns=['UF','Rodovia','km inicial','km final','Extensão (km)','Data','Latitude','Longitude','ICC','ICP','ICM']\n"
      ],
      "metadata": {
        "id": "70maqC8rgurW"
      },
      "execution_count": null,
      "outputs": []
    },
    {
      "cell_type": "code",
      "source": [
        "#AGUPAR E EXIBIR DADOS DA BAHIA\n",
        "dadosBahia22=base2.groupby(['UF'])\n",
        "dadosBahia22\n",
        "dadosBahia22.get_group('BA')"
      ],
      "metadata": {
        "id": "zpDdA9mrfErG"
      },
      "execution_count": null,
      "outputs": []
    },
    {
      "cell_type": "code",
      "source": [
        "dadosBahia23=base.groupby(['UF'])\n",
        "dadosBahia23=dadosBahia23.get_group('BA')\n",
        "dadosBahia23.describe()"
      ],
      "metadata": {
        "id": "wmvpXJI3k2KO"
      },
      "execution_count": null,
      "outputs": []
    },
    {
      "cell_type": "code",
      "source": [
        "#latitude dos trechos baianos\n",
        "latitude=base.groupby(['Latitude'])\n",
        "lat23BA=dadosBahia23\n",
        "lat23BA.Latitude.head(31)\n",
        "lat23BA.describe\n"
      ],
      "metadata": {
        "id": "hvph2hSAo1xZ"
      },
      "execution_count": null,
      "outputs": []
    },
    {
      "cell_type": "code",
      "source": [
        "#longitude dos trechos baianos\n",
        "latitude22=base2.groupby(['Latitude'])\n",
        "lat22BA=dadosBahia22.get_group('BA')\n",
        "lat22BA.Latitude.head(31)\n",
        "lat22BA.describe"
      ],
      "metadata": {
        "id": "CVnaEUYrk08L"
      },
      "execution_count": null,
      "outputs": []
    },
    {
      "cell_type": "code",
      "source": [],
      "metadata": {
        "id": "EI1UVRVFvKJV"
      },
      "execution_count": null,
      "outputs": []
    },
    {
      "cell_type": "code",
      "source": [
        "#indicebase2=base2.groupby(['ICM'])\n",
        "indice22=base2.groupby(['ICM'])\n",
        "dadosBahia22=lat23BA\n",
        "valor_x=dadosBahia22"
      ],
      "metadata": {
        "id": "3sqLcokQp_TE"
      },
      "execution_count": null,
      "outputs": []
    },
    {
      "cell_type": "code",
      "source": [
        "indice23=base.groupby(['ICMNP'])\n",
        "dadosBahia23=lat23BA\n",
        "valor_y=dadosBahia23"
      ],
      "metadata": {
        "id": "GmR92wjuubyN"
      },
      "execution_count": null,
      "outputs": []
    },
    {
      "cell_type": "code",
      "source": [
        "error = latitude10valores22 - latitude10valores23\n",
        "squared_error = error**2"
      ],
      "metadata": {
        "id": "uFkb1l8jil-2"
      },
      "execution_count": null,
      "outputs": []
    },
    {
      "cell_type": "code",
      "source": [
        "rmse = np.sqrt(mean_squared_error(,))\n",
        "print(\"RMSE:\", rmse)"
      ],
      "metadata": {
        "id": "QqnRIvQEiFtA"
      },
      "execution_count": null,
      "outputs": []
    },
    {
      "cell_type": "code",
      "source": [
        "rmsle = np.sqrt(mean_squared_log_error(lat22BA,lat23BA))\n",
        "print(\"RMSLE:\", rmsle)"
      ],
      "metadata": {
        "id": "TqrV7dYP_0nL"
      },
      "execution_count": null,
      "outputs": []
    },
    {
      "cell_type": "code",
      "source": [
        "indice22=base2.groupby(['ICM'])\n",
        "dadosBahia22=lat23BA\n",
        "valor_x=dadosBahia22"
      ],
      "metadata": {
        "id": "ctFvD_yBeK8t"
      },
      "execution_count": null,
      "outputs": []
    },
    {
      "cell_type": "code",
      "source": [],
      "metadata": {
        "id": "MB9N7r_Yqkz2"
      },
      "execution_count": null,
      "outputs": []
    }
  ]
}